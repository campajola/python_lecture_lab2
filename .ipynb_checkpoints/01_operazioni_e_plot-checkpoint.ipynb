{
 "cells": [
  {
   "cell_type": "markdown",
   "id": "c8cdc498-342d-4d0a-b193-f7cff123a83e",
   "metadata": {},
   "source": [
    "# Operare con dati numerici in Python"
   ]
  },
  {
   "cell_type": "code",
   "execution_count": null,
   "id": "7f19cf2e-3440-4ce4-92d9-4fbe569d4463",
   "metadata": {},
   "outputs": [],
   "source": []
  },
  {
   "cell_type": "markdown",
   "id": "776711f3-1f31-4e30-bccc-95214fc427ad",
   "metadata": {},
   "source": [
    "####  Reminder: collezioni di dati\n",
    "\n",
    "Ci sono quattro tipi di 'contenitori di dati' di default nel linguaggio di programmazione Python:\n",
    "\n",
    "- lista: è una raccolta ordinata e modificabile. Permette membri duplicati.\n",
    "- tuple: è una raccolta ordinata e immutabile. Permette membri duplicati.\n",
    "- set: è una raccolta disordinata, immutabile e non indicizzata. Nessun membro duplicato.\n",
    "- dictionary: è una raccolta ordinata e modificabile. Nessun membro duplicato."
   ]
  },
  {
   "cell_type": "code",
   "execution_count": null,
   "id": "c497a9a5-c02f-4d92-9b66-fc27210af4e2",
   "metadata": {},
   "outputs": [],
   "source": []
  },
  {
   "cell_type": "markdown",
   "id": "0445a02d-49ca-4aed-bbf8-8d24ffc5a7aa",
   "metadata": {},
   "source": [
    "### Le liste\n",
    "\n",
    "\n",
    "Le liste vengono create utilizzando parentesi quadre: []"
   ]
  },
  {
   "cell_type": "code",
   "execution_count": 1,
   "id": "0924559b-232d-43d2-bb82-e2c0d02308b0",
   "metadata": {},
   "outputs": [],
   "source": [
    "nuova_lista = [1, 2, 5]"
   ]
  },
  {
   "cell_type": "code",
   "execution_count": 2,
   "id": "e1e2f161-8512-443c-bab7-edc9f4565cd9",
   "metadata": {},
   "outputs": [
    {
     "name": "stdout",
     "output_type": "stream",
     "text": [
      "[1, 2, 5]\n"
     ]
    }
   ],
   "source": [
    "print(nuova_lista)"
   ]
  },
  {
   "cell_type": "code",
   "execution_count": 3,
   "id": "e3d603f3-ac65-44d9-aa36-c8a0e43ed99d",
   "metadata": {},
   "outputs": [
    {
     "data": {
      "text/plain": [
       "[1, 2, 5]"
      ]
     },
     "execution_count": 3,
     "metadata": {},
     "output_type": "execute_result"
    }
   ],
   "source": [
    "# in un notebook possiamo ispezionare il contenuto di una variabile anche cosi:\n",
    "nuova_lista"
   ]
  },
  {
   "cell_type": "markdown",
   "id": "3344a4ee-59e4-41bd-b433-3a4a3f1d279c",
   "metadata": {},
   "source": [
    "Gli elementi della lista sono indicizzati e possiamo accedervi facendo riferimento al numero di indice.\n",
    "Gli indici iniziano con 0, il che significa che il primo elemento ha indice 0, il secondo ha indice 1 e così via.\n"
   ]
  },
  {
   "cell_type": "code",
   "execution_count": 4,
   "id": "fb3f49c0-e42c-43ba-b753-b1483c6a82a9",
   "metadata": {},
   "outputs": [
    {
     "data": {
      "text/plain": [
       "1"
      ]
     },
     "execution_count": 4,
     "metadata": {},
     "output_type": "execute_result"
    }
   ],
   "source": [
    "# cosi accediamo all'elemento di nuova_lista all'indice 0\n",
    "nuova_lista[0]"
   ]
  },
  {
   "cell_type": "code",
   "execution_count": 5,
   "id": "c369a22f-0ac8-4cbb-9414-de652179a2d2",
   "metadata": {},
   "outputs": [],
   "source": [
    "# una lista puo contenere elementi di tipo diverso\n",
    "nuova_lista = [1, 2, 50, 'uu']"
   ]
  },
  {
   "cell_type": "code",
   "execution_count": 6,
   "id": "1292f97c-df00-4e18-81ba-eec7ffeb697e",
   "metadata": {},
   "outputs": [
    {
     "name": "stdout",
     "output_type": "stream",
     "text": [
      "[1, 2, 50, 'uu']\n"
     ]
    }
   ],
   "source": [
    "print(nuova_lista)"
   ]
  },
  {
   "cell_type": "code",
   "execution_count": 7,
   "id": "b6fdf045-f75b-4f09-afd8-fc2902ba4102",
   "metadata": {},
   "outputs": [
    {
     "name": "stdout",
     "output_type": "stream",
     "text": [
      "uu\n"
     ]
    }
   ],
   "source": [
    "print(nuova_lista[3])"
   ]
  },
  {
   "cell_type": "code",
   "execution_count": 11,
   "id": "c8ea7e17-77b1-4242-abe7-da6438d73460",
   "metadata": {},
   "outputs": [
    {
     "name": "stdout",
     "output_type": "stream",
     "text": [
      "1\n",
      "2\n",
      "3\n",
      "4\n",
      "5\n",
      "6\n",
      "7\n",
      "8\n",
      "9\n"
     ]
    }
   ],
   "source": [
    "for i in range(len(nuova_lista)):\n",
    "    print(nuova_lista[i])"
   ]
  },
  {
   "cell_type": "code",
   "execution_count": null,
   "id": "7b6c56c7-9e12-4ac3-a93b-eab986e98508",
   "metadata": {},
   "outputs": [],
   "source": []
  },
  {
   "cell_type": "markdown",
   "id": "0d3e13b7-32d3-40fd-a39d-5ae35d7a7ef7",
   "metadata": {},
   "source": [
    "## Librerie scientifiche\n",
    "\n",
    "Tipicamente, per analizzare dati in applicazioni scientifiche sarà necessario includere alcuni moduli Python.\n",
    "Non tutti i moduli che utilizzeremo sono installati per default. \n",
    "\n",
    "Per installare un nuovo modulo, è possibile procedere in due modi:\n",
    "\n",
    "- tramite la riga di comando o\n",
    "- tramite l'interfaccia grafica di Anaconda\n",
    "\n",
    "#### Trai i moduli più utili nell'analisi dati:\n",
    "* numpy\n",
    "* pandas\n",
    "* scipy\n",
    "* matplotlib"
   ]
  },
  {
   "cell_type": "code",
   "execution_count": null,
   "id": "046399df-a260-4adc-afbd-69378cff2c62",
   "metadata": {},
   "outputs": [],
   "source": []
  },
  {
   "cell_type": "markdown",
   "id": "c0661f95-f441-40f5-b3b3-beda3a553adc",
   "metadata": {},
   "source": [
    "## numpy\n",
    "\n",
    "NumPy (abbreviazione di 'Numerical Python') è il modulo di fatto standard per svolgere lavoro numerico in Python. \n",
    "\n",
    "C'è una convenzione standard per l'importazione di numpy, che è quella di utilizzare np:"
   ]
  },
  {
   "cell_type": "code",
   "execution_count": 12,
   "id": "6f9443d1-3be5-4396-a236-573ef5d46ea3",
   "metadata": {},
   "outputs": [],
   "source": [
    "import numpy as np"
   ]
  },
  {
   "cell_type": "markdown",
   "id": "522a64ef-af13-4b26-b7b4-f8e88832555c",
   "metadata": {},
   "source": [
    "### Creare array con numpy:\n",
    "\n",
    "Un array NumPy può essere trattato come una normale lista Python, e gran parte del modo in cui interagiamo con esso è identico. Dato un elenco (list), possiamo creare un array nel seguente modo:"
   ]
  },
  {
   "cell_type": "code",
   "execution_count": 14,
   "id": "d22b99eb-ce10-4632-9f0e-64c9f7431b59",
   "metadata": {},
   "outputs": [],
   "source": [
    "python_list = [1, 2, 3, 4, 5, 6, 7, 8]"
   ]
  },
  {
   "cell_type": "code",
   "execution_count": 15,
   "id": "20a66173-49f2-446e-a88e-4460f7eebe0b",
   "metadata": {},
   "outputs": [
    {
     "name": "stdout",
     "output_type": "stream",
     "text": [
      "[1 2 3 4 5 6 7 8]\n"
     ]
    }
   ],
   "source": [
    "numpy_array = np.array(python_list)\n",
    "print(numpy_array)"
   ]
  },
  {
   "cell_type": "code",
   "execution_count": 13,
   "id": "5e30d410-fe2f-45f5-8ae5-d333925887fb",
   "metadata": {},
   "outputs": [
    {
     "data": {
      "text/plain": [
       "array([1, 2, 3, 4, 5, 6, 7, 8])"
      ]
     },
     "execution_count": 13,
     "metadata": {},
     "output_type": "execute_result"
    }
   ],
   "source": [
    "numpy_array"
   ]
  },
  {
   "cell_type": "code",
   "execution_count": 18,
   "id": "c9d443b1-010e-4fe4-b6aa-9e0d7e675014",
   "metadata": {},
   "outputs": [
    {
     "data": {
      "text/plain": [
       "numpy.ndarray"
      ]
     },
     "execution_count": 18,
     "metadata": {},
     "output_type": "execute_result"
    }
   ],
   "source": [
    "type(numpy_array)"
   ]
  },
  {
   "cell_type": "markdown",
   "id": "9c52d6b2-b8e5-44f0-94c3-29498357aa1f",
   "metadata": {},
   "source": [
    "Possiamo accedere a un elemento di un array facendo riferimento al suo numero di indice.\n"
   ]
  },
  {
   "cell_type": "code",
   "execution_count": 16,
   "id": "a926987a-9911-449b-8a46-48e8a9c2b8ef",
   "metadata": {},
   "outputs": [
    {
     "name": "stdout",
     "output_type": "stream",
     "text": [
      "1\n"
     ]
    }
   ],
   "source": [
    "print(numpy_array[0]) "
   ]
  },
  {
   "cell_type": "code",
   "execution_count": null,
   "id": "f7cd4a16-96a8-4910-adf2-2b623804a52e",
   "metadata": {},
   "outputs": [],
   "source": []
  },
  {
   "cell_type": "markdown",
   "id": "a5165b60-bc84-4291-8226-e17772c27642",
   "metadata": {},
   "source": [
    "### Operazioni con liste e numpy array"
   ]
  },
  {
   "cell_type": "code",
   "execution_count": 20,
   "id": "ec14fd25-1ca7-4a7d-bc60-8b09d7c1df36",
   "metadata": {},
   "outputs": [],
   "source": [
    "python_list = [3, 6, 8, 4, 10]"
   ]
  },
  {
   "cell_type": "markdown",
   "id": "e6a4b7a5-6f0b-4c8e-944a-945955da8971",
   "metadata": {},
   "source": [
    "Che succede se moltiplichiamo una lista per un numero. Ad esempio [] * 3"
   ]
  },
  {
   "cell_type": "code",
   "execution_count": 22,
   "id": "1fab48cc-9c27-41b6-8bd8-c240881ee958",
   "metadata": {},
   "outputs": [
    {
     "data": {
      "text/plain": [
       "[3, 6, 8, 4, 10, 3, 6, 8, 4, 10, 3, 6, 8, 4, 10]"
      ]
     },
     "execution_count": 22,
     "metadata": {},
     "output_type": "execute_result"
    }
   ],
   "source": [
    "python_list * 3"
   ]
  },
  {
   "cell_type": "markdown",
   "id": "d84034ba-2db1-442a-8b8f-84e4e2d5ad06",
   "metadata": {},
   "source": [
    "l'istruzione []*3 replica gli elementi di python_list 3 volte"
   ]
  },
  {
   "cell_type": "code",
   "execution_count": null,
   "id": "595b603b-376a-42f1-a169-cb284e7181aa",
   "metadata": {},
   "outputs": [],
   "source": []
  },
  {
   "cell_type": "markdown",
   "id": "c89f962a-9637-4ae7-b443-d03b9b53bd41",
   "metadata": {},
   "source": [
    "non è un'operazione algebrica, come un prodotto tra un vettore ed uno scalare.\n",
    "\n",
    "\n",
    "con un numpy array invece possiamo effettuare operazioni algebriche tra array"
   ]
  },
  {
   "cell_type": "code",
   "execution_count": null,
   "id": "00b41d31-6833-431e-8c86-f929ba7df827",
   "metadata": {},
   "outputs": [],
   "source": []
  },
  {
   "cell_type": "code",
   "execution_count": 24,
   "id": "9946d621-6038-480a-a80a-f798888961db",
   "metadata": {},
   "outputs": [],
   "source": [
    "my_nparray = np.array(python_list)"
   ]
  },
  {
   "cell_type": "code",
   "execution_count": 2,
   "id": "d65d0137-fa9a-48cb-a2b2-34a077b00fd6",
   "metadata": {},
   "outputs": [
    {
     "ename": "NameError",
     "evalue": "name 'my_nparray' is not defined",
     "output_type": "error",
     "traceback": [
      "\u001b[1;31m---------------------------------------------------------------------------\u001b[0m",
      "\u001b[1;31mNameError\u001b[0m                                 Traceback (most recent call last)",
      "Cell \u001b[1;32mIn[2], line 2\u001b[0m\n\u001b[0;32m      1\u001b[0m \u001b[38;5;66;03m# moltiplicazione per uno scalare\u001b[39;00m\n\u001b[1;32m----> 2\u001b[0m \u001b[43mmy_nparray\u001b[49m \u001b[38;5;241m*\u001b[39m \u001b[38;5;241m3\u001b[39m\n",
      "\u001b[1;31mNameError\u001b[0m: name 'my_nparray' is not defined"
     ]
    }
   ],
   "source": [
    "# moltiplicazione per uno scalare\n",
    "\n",
    "my_nparray * 3"
   ]
  },
  {
   "cell_type": "code",
   "execution_count": 27,
   "id": "3892abe8-16bb-49c9-ad51-5ddca22937d1",
   "metadata": {},
   "outputs": [
    {
     "data": {
      "text/plain": [
       "array([16, -1, 29,  3,  2])"
      ]
     },
     "execution_count": 27,
     "metadata": {},
     "output_type": "execute_result"
    }
   ],
   "source": [
    "# sottrazione di due array\n",
    "\n",
    "s2 = np.array([23,5,34,7,5])\n",
    "s3 = np.array([7, 6, 5,4,3])\n",
    "s2 - s3"
   ]
  },
  {
   "cell_type": "code",
   "execution_count": 28,
   "id": "8a33c415-b551-4fe8-a127-6b85882f868f",
   "metadata": {},
   "outputs": [
    {
     "data": {
      "text/plain": [
       "array([49, 36, 25, 16,  9])"
      ]
     },
     "execution_count": 28,
     "metadata": {},
     "output_type": "execute_result"
    }
   ],
   "source": [
    "# moltiplicazione riga per colonna di due vettori\n",
    "\n",
    "s3*s3"
   ]
  },
  {
   "cell_type": "code",
   "execution_count": null,
   "id": "0f38be62-0ff2-463c-bd2d-6c34328b6ed1",
   "metadata": {},
   "outputs": [],
   "source": []
  },
  {
   "cell_type": "markdown",
   "id": "c2659559-ca3e-4d1a-87b2-83ad70a49b3e",
   "metadata": {},
   "source": [
    "### Calcolo statistico con numpy"
   ]
  },
  {
   "cell_type": "code",
   "execution_count": 30,
   "id": "c4de7d9c-a8af-468f-bde1-d4d6f05fded9",
   "metadata": {},
   "outputs": [],
   "source": [
    "s=np.array([5, 7, 6, 1, 5, 4, 3, 8, 7])"
   ]
  },
  {
   "cell_type": "code",
   "execution_count": 31,
   "id": "233383ac-0447-46a5-9713-59d2c9c862e9",
   "metadata": {},
   "outputs": [],
   "source": [
    "# come possiamo calcolare la media di un array s?"
   ]
  },
  {
   "cell_type": "code",
   "execution_count": 1,
   "id": "ac52866b-b479-44e4-a922-25cf86336364",
   "metadata": {},
   "outputs": [
    {
     "ename": "NameError",
     "evalue": "name 's' is not defined",
     "output_type": "error",
     "traceback": [
      "\u001b[1;31m---------------------------------------------------------------------------\u001b[0m",
      "\u001b[1;31mNameError\u001b[0m                                 Traceback (most recent call last)",
      "Cell \u001b[1;32mIn[1], line 2\u001b[0m\n\u001b[0;32m      1\u001b[0m mean \u001b[38;5;241m=\u001b[39m \u001b[38;5;241m0\u001b[39m\n\u001b[1;32m----> 2\u001b[0m \u001b[38;5;28;01mfor\u001b[39;00m el \u001b[38;5;129;01min\u001b[39;00m \u001b[43ms\u001b[49m:\n\u001b[0;32m      3\u001b[0m     mean\u001b[38;5;241m+\u001b[39m\u001b[38;5;241m=\u001b[39mel\n\u001b[0;32m      4\u001b[0m mean \u001b[38;5;241m=\u001b[39m mean\u001b[38;5;241m/\u001b[39m\u001b[38;5;28mlen\u001b[39m(s)\n",
      "\u001b[1;31mNameError\u001b[0m: name 's' is not defined"
     ]
    }
   ],
   "source": [
    "mean = 0\n",
    "for el in s:\n",
    "    mean+=el\n",
    "mean = mean/len(s)\n",
    "print(mean)"
   ]
  },
  {
   "cell_type": "code",
   "execution_count": 32,
   "id": "c905483d-33be-4b9a-8681-8825f664dc47",
   "metadata": {},
   "outputs": [
    {
     "data": {
      "text/plain": [
       "5.111111111111111"
      ]
     },
     "execution_count": 32,
     "metadata": {},
     "output_type": "execute_result"
    }
   ],
   "source": [
    "#usando numpy\n",
    "np.mean(s)"
   ]
  },
  {
   "cell_type": "code",
   "execution_count": 18,
   "id": "b56eb322-09df-4e87-9310-d095c7db05d7",
   "metadata": {},
   "outputs": [
    {
     "data": {
      "text/plain": [
       "5.111111111111111"
      ]
     },
     "execution_count": 18,
     "metadata": {},
     "output_type": "execute_result"
    }
   ],
   "source": [
    "#altro metodo usando numpy\n",
    "s.mean()"
   ]
  },
  {
   "cell_type": "code",
   "execution_count": 22,
   "id": "bd336c38-3ad8-4539-a2b8-fd0e3f1ae71e",
   "metadata": {},
   "outputs": [
    {
     "data": {
      "text/plain": [
       "2.078698548207746"
      ]
     },
     "execution_count": 22,
     "metadata": {},
     "output_type": "execute_result"
    }
   ],
   "source": [
    "# ela deviazione standard\n",
    "\n",
    "np.sqrt((s**2).mean()-(s.mean())**2)"
   ]
  },
  {
   "cell_type": "code",
   "execution_count": 33,
   "id": "2e492ff6-947d-43be-b1bd-b5f17a04444f",
   "metadata": {},
   "outputs": [
    {
     "name": "stdout",
     "output_type": "stream",
     "text": [
      "std. dev.: 2.078698548207745\n"
     ]
    }
   ],
   "source": [
    "# oppure \n",
    "np.std(s)"
   ]
  },
  {
   "cell_type": "code",
   "execution_count": 21,
   "id": "a64c60f1-26ce-420c-98a3-ccbc927a05b6",
   "metadata": {},
   "outputs": [
    {
     "name": "stdout",
     "output_type": "stream",
     "text": [
      "variance: 4.320987654320987\n"
     ]
    }
   ],
   "source": [
    "# per la varianza\n",
    "np.var(s)"
   ]
  },
  {
   "cell_type": "code",
   "execution_count": 23,
   "id": "882d56db-ab2b-419b-b275-86248d7e8002",
   "metadata": {},
   "outputs": [],
   "source": [
    "# min max"
   ]
  },
  {
   "cell_type": "code",
   "execution_count": 34,
   "id": "39096cd0-a3f8-4e28-946d-fc47a555a9f5",
   "metadata": {},
   "outputs": [
    {
     "data": {
      "text/plain": [
       "1"
      ]
     },
     "execution_count": 34,
     "metadata": {},
     "output_type": "execute_result"
    }
   ],
   "source": [
    "s.min()"
   ]
  },
  {
   "cell_type": "code",
   "execution_count": 35,
   "id": "d9e56b22-9032-468d-8730-4d3e301b5414",
   "metadata": {},
   "outputs": [
    {
     "data": {
      "text/plain": [
       "8"
      ]
     },
     "execution_count": 35,
     "metadata": {},
     "output_type": "execute_result"
    }
   ],
   "source": [
    "s.max()"
   ]
  },
  {
   "cell_type": "code",
   "execution_count": null,
   "id": "f522c9e7-3d8f-4d58-9a1d-c47d2fa896a6",
   "metadata": {},
   "outputs": [],
   "source": []
  },
  {
   "cell_type": "markdown",
   "id": "c5d48fca-4f78-47bb-bc50-dff0bcbd5c0c",
   "metadata": {},
   "source": [
    "### Reminder: funzioni speciali per creare un numpy array"
   ]
  },
  {
   "cell_type": "markdown",
   "id": "21f8ac07-8c4a-403e-bbb5-b25cc6358520",
   "metadata": {},
   "source": [
    "`NumPy` include un'ampia serie di funzioni per la creazione di array. Ora vedremo alcune delle più comunemente utilizzate.\n",
    "\n",
    "La prima è `np.arange` (che significa \"array range\"), la quale funziona in modo molto simile alla funzione standard `range()` di Python, inclusa la sua modalità predefinita di partire da zero, escludere il numero più alto nell'intervallo e la possibilità di specificare un \"passo\"."
   ]
  },
  {
   "cell_type": "code",
   "execution_count": 38,
   "id": "536ead1e-05e3-4bd2-9822-dbc9ae0e22ac",
   "metadata": {},
   "outputs": [
    {
     "data": {
      "text/plain": [
       "array([2, 4, 6])"
      ]
     },
     "execution_count": 38,
     "metadata": {},
     "output_type": "execute_result"
    }
   ],
   "source": [
    "np.arange(2, 8, 2)"
   ]
  },
  {
   "cell_type": "code",
   "execution_count": 29,
   "id": "9a8072b9-6213-4727-ab52-b9ad6dc64280",
   "metadata": {},
   "outputs": [
    {
     "data": {
      "text/plain": [
       "array([ 5,  7,  9, 11, 13, 15, 17, 19])"
      ]
     },
     "execution_count": 29,
     "metadata": {},
     "output_type": "execute_result"
    }
   ],
   "source": [
    "np.arange(5, 20, 2) #0 .. n-1  (!)"
   ]
  },
  {
   "cell_type": "code",
   "execution_count": 27,
   "id": "6c32c299-c8ed-48fe-b864-ebb38a71a85e",
   "metadata": {},
   "outputs": [
    {
     "data": {
      "text/plain": [
       "array([1, 3, 5, 7])"
      ]
     },
     "execution_count": 27,
     "metadata": {},
     "output_type": "execute_result"
    }
   ],
   "source": [
    "np.arange(1, 9, 2) # start, end (exclusive), step"
   ]
  },
  {
   "cell_type": "markdown",
   "id": "0534de9b-010a-497e-bb54-1a04d62d37b2",
   "metadata": {},
   "source": [
    "In aggiunta, abbiamo `np.linspace` (che significa \"spazio lineare\"), che genera una serie di numeri a partire dal primo argomento fino al secondo argomento. Il terzo argomento definisce quanti numeri creare."
   ]
  },
  {
   "cell_type": "code",
   "execution_count": 39,
   "id": "b5467639-9e34-4867-94ea-150ae2564fd5",
   "metadata": {},
   "outputs": [
    {
     "data": {
      "text/plain": [
       "array([0. , 0.2, 0.4, 0.6, 0.8, 1. ])"
      ]
     },
     "execution_count": 39,
     "metadata": {},
     "output_type": "execute_result"
    }
   ],
   "source": [
    "np.linspace(0, 1, 6)   # start, end, num-points"
   ]
  },
  {
   "cell_type": "markdown",
   "id": "d30f8e66-de03-4edd-b2eb-00d7094e1878",
   "metadata": {},
   "source": [
    "Nota come includa il punto finale, a differenza di `arange()`. Puoi modificare questa caratteristica utilizzando l'argomento `endpoint`."
   ]
  },
  {
   "cell_type": "code",
   "execution_count": 29,
   "id": "0b6a0afd-8e7a-40c8-98d6-612810c23ae8",
   "metadata": {},
   "outputs": [
    {
     "data": {
      "text/plain": [
       "array([0. , 0.2, 0.4, 0.6, 0.8])"
      ]
     },
     "execution_count": 29,
     "metadata": {},
     "output_type": "execute_result"
    }
   ],
   "source": [
    "np.linspace(0, 1, 5, endpoint=False)"
   ]
  },
  {
   "cell_type": "code",
   "execution_count": null,
   "id": "ccab9d5a-764d-4fa1-88d2-b9d07bc52eb8",
   "metadata": {},
   "outputs": [],
   "source": []
  },
  {
   "cell_type": "markdown",
   "id": "cd315e8b-5dfa-40c7-86d3-672ed60b0077",
   "metadata": {},
   "source": [
    "## Graficare dati con matplotlib\n",
    "\n",
    "La visualizzazione dei dati in Python è gestita da un modulo esterno chiamato *matplotlib* (ce ne sono altri). È una libreria estesa con una storia illustre (prima versione rilasciata nel 2003), quindi non possiamo sperare di coprire tutte le sue funzionalità in questo corso. Per vedere la vasta gamma di possibilità offerte da matplotlib, consulta la sua [galleria di esempi](http://matplotlib.org/gallery.html).\n"
   ]
  },
  {
   "cell_type": "markdown",
   "id": "148e0dd8-5874-49fe-86cd-f11f056e4579",
   "metadata": {},
   "source": [
    "L'interfaccia più comune per Matplotlib è il suo modulo `pyplot`. [Per convenzione](http://matplotlib.org/faq/usage_faq.html#coding-styles), questo viene importato come `plt`."
   ]
  },
  {
   "cell_type": "code",
   "execution_count": 40,
   "id": "4586712d-71f5-482a-bc3d-0b1f809252a6",
   "metadata": {},
   "outputs": [],
   "source": [
    "import matplotlib.pyplot as plt"
   ]
  },
  {
   "cell_type": "markdown",
   "id": "f15974e9-9938-45c9-bc79-6f430daf8377",
   "metadata": {},
   "source": [
    "Una volta che abbiamo importato Matplotlib, possiamo iniziare a chiamare le sue funzioni. Qualsiasi funzione chiamata sull'oggetto `plt` influenzerà Matplotlib in tutto il resto dello script."
   ]
  },
  {
   "cell_type": "code",
   "execution_count": 41,
   "id": "f1bcee0b-d8d9-4b0c-b9b4-989ac88fb37b",
   "metadata": {},
   "outputs": [
    {
     "data": {
      "text/plain": [
       "[]"
      ]
     },
     "execution_count": 41,
     "metadata": {},
     "output_type": "execute_result"
    },
    {
     "data": {
      "image/png": "[encoded data removed]",
      "text/plain": [
       "<Figure size 640x480 with 1 Axes>"
      ]
     },
     "metadata": {},
     "output_type": "display_data"
    }
   ],
   "source": [
    "plt.plot()"
   ]
  },
  {
   "cell_type": "code",
   "execution_count": null,
   "id": "9f59d373-3063-45a5-a454-211ef39910d5",
   "metadata": {},
   "outputs": [],
   "source": []
  },
  {
   "cell_type": "code",
   "execution_count": null,
   "id": "c5e53ebb-9bc6-4665-98cc-a3da2ffbc78d",
   "metadata": {},
   "outputs": [],
   "source": []
  },
  {
   "cell_type": "markdown",
   "id": "9745d084-6a27-4e12-a7b3-10386238db61",
   "metadata": {},
   "source": [
    "Supponiamo di aver misurato in laboratorio la corrente che I che circola in una resistenza R quando ai capi di R è applicata una tensione V"
   ]
  },
  {
   "cell_type": "code",
   "execution_count": 42,
   "id": "1e005b2c-4a25-45dc-96a8-95f422f31d9b",
   "metadata": {},
   "outputs": [],
   "source": [
    "# alcune misure collezionate nell'eesperienza del metodo voltamperomentrico\n",
    "# configurazione a monte\n",
    "\n",
    "I = np.array([150, 170, 185, 210, 230, 250, 275, 290, 310, 340, 360, 370]) #in \\muA\n",
    "\n",
    "V = np.array([0.32, 0.36, 0.4, 0.44, 0.48, 0.56, 0.6, 0.64, 0.68, 0.76, 0.8, 0.84]) # in V"
   ]
  },
  {
   "cell_type": "code",
   "execution_count": null,
   "id": "59dc544e-e50c-476e-9884-a19fdc264a34",
   "metadata": {},
   "outputs": [],
   "source": []
  },
  {
   "cell_type": "raw",
   "id": "ac6d4aa9-3215-4963-950d-1283b9f6733b",
   "metadata": {},
   "source": [
    "# configurazione a monte\n",
    "\n",
    "V = np.array([0.04, 0.08, 0.12, 0.12, 0.16, 0.16, 0.2, 0.24, 0.24, 0.28,\n",
    "    0.32, 0.32, 0.36, 0.36, 0.4, 0.44, 0.44, 0.48, 0.52, 0.52,\n",
    "    0.56, 0.56, 0.6, 0.64, 0.64, 0.68, 0.68, 0.72, 0.76, 0.76,\n",
    "    0.8, 0.8, 0.84, 0.84, 0.88])\n",
    "\n",
    "I = np.array([20, 40, 50, 60, 70, 80, 90, 110, 120, 130, 140, 150, 170, 180,\n",
    "    190, 200, 220, 230, 240, 250, 270, 280, 290, 300, 310, 330, 340,\n",
    "    350, 360, 370, 380, 400, 410, 420, 430])"
   ]
  },
  {
   "cell_type": "markdown",
   "id": "956f0326-d1ca-4702-a02d-601fea198742",
   "metadata": {},
   "source": [
    "Dalla teoria mi aspetto che esista una relazione lineare tra queste due variabili. \n",
    "Come posso graficarle per verificare questa ipotesi?\n",
    "\n",
    "Ci aiuta la funzione `scatter` di matplotlib.pyplot"
   ]
  },
  {
   "cell_type": "code",
   "execution_count": null,
   "id": "56c3a427-2c3a-455a-b216-7e6e4f3ccb98",
   "metadata": {},
   "outputs": [],
   "source": []
  },
  {
   "cell_type": "markdown",
   "id": "1ab23935-c05e-4560-8a31-93fd01a93aac",
   "metadata": {},
   "source": [
    "### scatter plot"
   ]
  },
  {
   "cell_type": "markdown",
   "id": "9739d2b6-be05-45f4-bf1d-46560b074c2a",
   "metadata": {},
   "source": [
    "Per impostazione predefinita, la funzione `scatter()`` disegna disegna punti in un piano di coordinate cartesiane x-y. La funzione accetta parametri per specificare i punti nel diagramma.\n",
    "\n",
    "- Il parametro 1 è un array contenente i punti sull'asse x.\n",
    "- Il parametro 2 è un array contenente i punti sull'asse y."
   ]
  },
  {
   "cell_type": "code",
   "execution_count": 3,
   "id": "d319826c-7fa6-402c-a66f-08587acfc890",
   "metadata": {},
   "outputs": [
    {
     "ename": "NameError",
     "evalue": "name 'plt' is not defined",
     "output_type": "error",
     "traceback": [
      "\u001b[1;31m---------------------------------------------------------------------------\u001b[0m",
      "\u001b[1;31mNameError\u001b[0m                                 Traceback (most recent call last)",
      "Cell \u001b[1;32mIn[3], line 1\u001b[0m\n\u001b[1;32m----> 1\u001b[0m \u001b[43mplt\u001b[49m\u001b[38;5;241m.\u001b[39mscatter(I, V)\n",
      "\u001b[1;31mNameError\u001b[0m: name 'plt' is not defined"
     ]
    }
   ],
   "source": [
    "plt.scatter(I, V)\n",
    "plt.show()"
   ]
  },
  {
   "cell_type": "markdown",
   "id": "6aa9e598-7862-4855-be77-5ef0bb63d6ca",
   "metadata": {},
   "source": [
    "#### label sugli assi"
   ]
  },
  {
   "cell_type": "code",
   "execution_count": 33,
   "id": "ac445e2f-f37a-48ed-943f-977e95eb5645",
   "metadata": {},
   "outputs": [
    {
     "data": {
      "image/png": "[encoded data removed]",
      "text/plain": [
       "<Figure size 640x480 with 1 Axes>"
      ]
     },
     "metadata": {},
     "output_type": "display_data"
    }
   ],
   "source": [
    "plt.scatter(I, V)\n",
    "plt.ylabel('$\\Delta$V [V]', size=14)\n",
    "plt.xlabel('I [$\\mu$A]', size=14)\n",
    "plt.title('Stima di R con il metodo voltamperometrico')\n",
    "plt.show()"
   ]
  },
  {
   "cell_type": "markdown",
   "id": "4461cec3-f45a-48ae-bb23-3a07972fd112",
   "metadata": {},
   "source": [
    "#### griglia"
   ]
  },
  {
   "cell_type": "code",
   "execution_count": 34,
   "id": "50081368-187b-49b0-9ec5-d1d88480832d",
   "metadata": {},
   "outputs": [
    {
     "data": {
      "image/png": "[encoded data removed]",
      "text/plain": [
       "<Figure size 640x480 with 1 Axes>"
      ]
     },
     "metadata": {},
     "output_type": "display_data"
    }
   ],
   "source": [
    "plt.scatter(I, V)\n",
    "plt.ylabel('$\\Delta$V [V]', size=14)\n",
    "plt.xlabel('I [$\\mu$A]', size=14)\n",
    "plt.title('Stima di R con il metodo voltamperometrico')\n",
    "plt.grid()\n",
    "plt.show()"
   ]
  },
  {
   "cell_type": "markdown",
   "id": "a7b234b6-6c3b-40c2-9064-80defc8e287b",
   "metadata": {},
   "source": [
    "#### limiti assi"
   ]
  },
  {
   "cell_type": "code",
   "execution_count": 35,
   "id": "06071d4b-4a4f-4bb8-9a50-f6ff91756aac",
   "metadata": {},
   "outputs": [
    {
     "data": {
      "image/png": "[encoded data removed]",
      "text/plain": [
       "<Figure size 640x480 with 1 Axes>"
      ]
     },
     "metadata": {},
     "output_type": "display_data"
    }
   ],
   "source": [
    "plt.scatter(I, V)\n",
    "plt.ylabel('$\\Delta$V [V]', size=14)\n",
    "plt.xlabel('I [$\\mu$A]', size=14)\n",
    "plt.title('Stima di R con il metodo voltamperometrico')\n",
    "plt.grid()\n",
    "plt.xlim(0, 400)\n",
    "plt.ylim(0, 1)\n",
    "plt.show()"
   ]
  },
  {
   "cell_type": "markdown",
   "id": "9a4de8a7-39de-4e54-8236-f9ac20b954a8",
   "metadata": {},
   "source": [
    "### Plot multipli e legenda"
   ]
  },
  {
   "cell_type": "markdown",
   "id": "6484d512-66a0-44f5-9b9d-7bd9b8ed9d39",
   "metadata": {},
   "source": [
    "Sopponiamo di avere misurato due set di coppiedi punti (I, V) in due configurazioni diverse del circuito.\n",
    "\n",
    "Posso graficare entrambi i risultati?"
   ]
  },
  {
   "cell_type": "code",
   "execution_count": 56,
   "id": "52e60da1-af9e-40ef-8d2b-752d301c723f",
   "metadata": {},
   "outputs": [],
   "source": [
    "# configurazione a monte\n",
    "\n",
    "I_m = np.array([150, 170, 185, 210, 230, 250, 275, 290, 310, 340, 360, 370]) #in \\muA\n",
    "V_m = np.array([0.32, 0.36, 0.4, 0.44, 0.48, 0.56, 0.6, 0.64, 0.68, 0.76, 0.8, 0.84]) # in V\n",
    "\n",
    "# configurazione a valle\n",
    "\n",
    "I_v = np.array([140., 150., 170., 190., 215., 230., 255., 280., 300., 320., 340., 355.]) # in \\muA\n",
    "V_v = np.array([0.4, 0.44, 0.52, 0.56, 0.64, 0.7, 0.76, 0.84, 0.88, 0.96, 1., 1.08]) # in V"
   ]
  },
  {
   "cell_type": "raw",
   "id": "29d87a3f-1888-4dda-81da-70eab49cc697",
   "metadata": {},
   "source": [
    "# configurazione a monte\n",
    "\n",
    "V_m = np.array([0.04, 0.08, 0.12, 0.12, 0.16, 0.16, 0.2, 0.24, 0.24, 0.28,\n",
    "    0.32, 0.32, 0.36, 0.36, 0.4, 0.44, 0.44, 0.48, 0.52, 0.52,\n",
    "    0.56, 0.56, 0.6, 0.64, 0.64, 0.68, 0.68, 0.72, 0.76, 0.76,\n",
    "    0.8, 0.8, 0.84, 0.84, 0.88])\n",
    "\n",
    "I_m = np.array([20, 40, 50, 60, 70, 80, 90, 110, 120, 130, 140, 150, 170, 180,\n",
    "    190, 200, 220, 230, 240, 250, 270, 280, 290, 300, 310, 330, 340,\n",
    "    350, 360, 370, 380, 400, 410, 420, 430])"
   ]
  },
  {
   "cell_type": "raw",
   "id": "fed1e6ba-a687-4b9c-b2b0-67315b31b5cb",
   "metadata": {},
   "source": [
    "# configurazione a valle\n",
    "\n",
    "V_v = np.array([0.08, 0.08, 0.12, 0.16, 0.2, 0.24, 0.24, 0.28, 0.32, 0.36,\n",
    "    0.4, 0.4, 0.44, 0.48, 0.52, 0.52, 0.56, 0.6, 0.64, 0.64,\n",
    "    0.68, 0.72, 0.76, 0.76, 0.8, 0.84, 0.88, 0.88, 0.92, 0.96,\n",
    "    1.0, 1.0, 1.04, 1.08, 1.12])\n",
    "\n",
    "I_v = np.array([20, 30, 40, 50, 70, 80, 90, 100, 110, 120, 130, 140, 160,\n",
    "    170, 180, 190, 200, 210, 230, 240, 250, 260, 270, 280, 300,\n",
    "    310, 320, 330, 340, 350, 360, 370, 380, 400, 410])\n"
   ]
  },
  {
   "cell_type": "code",
   "execution_count": 54,
   "id": "b2727f91-6bed-4cbe-a2c9-65bbfaf12cbe",
   "metadata": {},
   "outputs": [
    {
     "data": {
      "image/png": "[encoded data removed]",
      "text/plain": [
       "<Figure size 640x480 with 1 Axes>"
      ]
     },
     "metadata": {},
     "output_type": "display_data"
    }
   ],
   "source": [
    "plt.legend()\n",
    "plt.ylabel('$\\Delta$V [V]', size=14)\n",
    "plt.xlabel('I [$\\mu$A]', size=14)\n",
    "plt.grid()\n",
    "plt.title('Stima di R con il metodo voltamperometrico')\n",
    "plt.xlim(0, 400)\n",
    "plt.ylim(0, 1.2)\n",
    "plt.show()"
   ]
  },
  {
   "cell_type": "code",
   "execution_count": null,
   "id": "0fe50664-968e-4aed-b3b8-b112609c17a4",
   "metadata": {},
   "outputs": [],
   "source": []
  },
  {
   "cell_type": "markdown",
   "id": "96a9a50a-4ee9-4b70-b743-d452dfdef4ff",
   "metadata": {},
   "source": [
    "### Scatter plots con barre di errore"
   ]
  },
  {
   "cell_type": "markdown",
   "id": "cde1394e-24e7-441e-bf05-cb4a76364e6b",
   "metadata": {},
   "source": [
    "Le misure effettuate sono affette da incertezze sperimentali determinate dalla sensibilità dello strumento."
   ]
  },
  {
   "cell_type": "code",
   "execution_count": 76,
   "id": "ba801e53-9212-4924-b1d2-2a95aea16333",
   "metadata": {},
   "outputs": [],
   "source": [
    "fs_V = 2\n",
    "dV = (fs_V/50) #la sensibilità del nostro strumento è data dal fondoscale diviso il numero di divisioni\n",
    "err_V = dV/2"
   ]
  },
  {
   "cell_type": "code",
   "execution_count": 77,
   "id": "b68b99ea-2062-4ff7-92ca-89cc9a3e2a44",
   "metadata": {},
   "outputs": [
    {
     "data": {
      "text/plain": [
       "0.02"
      ]
     },
     "execution_count": 77,
     "metadata": {},
     "output_type": "execute_result"
    }
   ],
   "source": [
    "err_V"
   ]
  },
  {
   "cell_type": "code",
   "execution_count": 73,
   "id": "4fad693d-77bb-4bea-a6ed-319e634eef08",
   "metadata": {},
   "outputs": [
    {
     "data": {
      "text/plain": [
       "array([1., 1., 1., 1., 1., 1., 1., 1., 1., 1., 1., 1.])"
      ]
     },
     "execution_count": 73,
     "metadata": {},
     "output_type": "execute_result"
    }
   ],
   "source": [
    "np.ones(len(V_m))"
   ]
  },
  {
   "cell_type": "code",
   "execution_count": 78,
   "id": "2396045d-f0b7-4705-86d7-ae2a96c29064",
   "metadata": {},
   "outputs": [
    {
     "name": "stdout",
     "output_type": "stream",
     "text": [
      "[0.02 0.02 0.02 0.02 0.02 0.02 0.02 0.02 0.02 0.02 0.02 0.02]\n"
     ]
    }
   ],
   "source": [
    "err_V = err_V * np.ones(len(V_m)) # in V\n",
    "print(err_V)"
   ]
  },
  {
   "cell_type": "code",
   "execution_count": 79,
   "id": "57b8af4a-cfa2-488b-b9a1-bbdd211ffa51",
   "metadata": {},
   "outputs": [
    {
     "name": "stdout",
     "output_type": "stream",
     "text": [
      "0.32 +/- 0.02\n",
      "0.36 +/- 0.02\n",
      "0.4 +/- 0.02\n",
      "0.44 +/- 0.02\n",
      "0.48 +/- 0.02\n",
      "0.56 +/- 0.02\n",
      "0.6 +/- 0.02\n",
      "0.64 +/- 0.02\n",
      "0.68 +/- 0.02\n",
      "0.76 +/- 0.02\n",
      "0.8 +/- 0.02\n",
      "0.84 +/- 0.02\n"
     ]
    }
   ],
   "source": [
    "for i in range(len(V_m)):\n",
    "    print(V_m[i], '+/-', err_V[i])"
   ]
  },
  {
   "cell_type": "code",
   "execution_count": null,
   "id": "6439322f-8c43-40f9-a7a6-c01537b6ef08",
   "metadata": {},
   "outputs": [],
   "source": []
  },
  {
   "cell_type": "code",
   "execution_count": 80,
   "id": "09b05ebd-f098-418e-aba5-3d9541f91063",
   "metadata": {},
   "outputs": [
    {
     "data": {
      "text/plain": [
       "array([5., 5., 5., 5., 5., 5., 5., 5., 5., 5., 5., 5.])"
      ]
     },
     "execution_count": 80,
     "metadata": {},
     "output_type": "execute_result"
    }
   ],
   "source": [
    "fs_I = 500\n",
    "dI = (fs_I/50)\n",
    "err_I = dI/2\n",
    "err_I = err_I * np.ones(len(I_m)) # in \\muA\n",
    "err_I"
   ]
  },
  {
   "cell_type": "code",
   "execution_count": null,
   "id": "6f355b57-4e1e-46b1-a53b-26dd71f71c3e",
   "metadata": {},
   "outputs": [],
   "source": []
  },
  {
   "cell_type": "markdown",
   "id": "920d252f-2fed-4a39-beee-027f12bbfb2f",
   "metadata": {},
   "source": [
    "e gli errori relativi?"
   ]
  },
  {
   "cell_type": "code",
   "execution_count": 81,
   "id": "adb2930a-b4ec-4b8f-a951-99fa8630d548",
   "metadata": {},
   "outputs": [
    {
     "data": {
      "text/plain": [
       "2.074844115134335"
      ]
     },
     "execution_count": 81,
     "metadata": {},
     "output_type": "execute_result"
    }
   ],
   "source": [
    "np.mean(err_I/I_m*100)"
   ]
  },
  {
   "cell_type": "code",
   "execution_count": 82,
   "id": "d73482a3-9dca-4004-9d0f-0717bc66ad29",
   "metadata": {},
   "outputs": [
    {
     "data": {
      "text/plain": [
       "7.666857745224617"
      ]
     },
     "execution_count": 82,
     "metadata": {},
     "output_type": "execute_result"
    }
   ],
   "source": [
    "np.mean(dV/V_m*100) #piu grandi di quelli di I"
   ]
  },
  {
   "cell_type": "code",
   "execution_count": null,
   "id": "0cc3f070-c6da-4e66-aae4-983d24674786",
   "metadata": {},
   "outputs": [],
   "source": []
  },
  {
   "cell_type": "markdown",
   "id": "1c1eecc9-334d-4d85-9579-72dc867e97bb",
   "metadata": {},
   "source": [
    "Come riportare gli errori in un grafico? Ci aiuta `errorbar`"
   ]
  },
  {
   "cell_type": "code",
   "execution_count": 90,
   "id": "18e068b4-16ab-4d64-bb19-f9b59c86e185",
   "metadata": {},
   "outputs": [
    {
     "data": {
      "image/png": "[encoded data removed]",
      "text/plain": [
       "<Figure size 640x480 with 1 Axes>"
      ]
     },
     "metadata": {},
     "output_type": "display_data"
    }
   ],
   "source": [
    "plt.errorbar(I_m, V_m, xerr=err_I, yerr=err_V, fmt='*', markersize=2., capsize=1.5, label='dati (conf. a monte) *')\n",
    "\n",
    "plt.errorbar(I_v, V_v, xerr=err_I, yerr=err_V, fmt='s', markersize=2., capsize=1.5, label='dati (conf. a valle) *')\n",
    "\n",
    "plt.annotate('*err. massimi',\n",
    "        xy=(0.52, 0.82), xycoords='axes fraction',\n",
    "        ha='left', va='top', fontsize=10)\n",
    "\n",
    "\n",
    "plt.legend()\n",
    "plt.ylabel('$\\Delta$V [V]', size=14)\n",
    "plt.xlabel('I [$\\mu$A]', size=14)\n",
    "plt.grid()\n",
    "plt.title('Stima di R con il metodo voltamperometrico')\n",
    "plt.xlim(0, 400)\n",
    "plt.ylim(0, 1.2)\n",
    "plt.show()"
   ]
  },
  {
   "cell_type": "code",
   "execution_count": null,
   "id": "221d6d2b-1efa-42f1-b276-486710601e4c",
   "metadata": {},
   "outputs": [],
   "source": []
  },
  {
   "cell_type": "markdown",
   "id": "b8c21f2a-21a7-46db-b022-66feb203e77e",
   "metadata": {},
   "source": [
    "Quelli riportati sono errori massimi.\n",
    "\n",
    "Come visto a lezione, possiamo considerare come errore statistico da attribuire alle misure da usare nel fit nel seguente modo:"
   ]
  },
  {
   "cell_type": "code",
   "execution_count": 91,
   "id": "e0598f25-3bd9-44b4-84d3-244069c48f8b",
   "metadata": {},
   "outputs": [],
   "source": [
    "sigmaV = err_V*2/np.sqrt(12)\n",
    "sigmaI = err_I*2/np.sqrt(12)"
   ]
  },
  {
   "cell_type": "code",
   "execution_count": null,
   "id": "a0e206ec-86c5-48b0-bd28-de3e16da916f",
   "metadata": {},
   "outputs": [],
   "source": []
  },
  {
   "cell_type": "markdown",
   "id": "6facfc48-5317-421e-aacf-8bd6789234b3",
   "metadata": {},
   "source": [
    "### Salvare il grafico su un file\n",
    "\n",
    "È possibile prendere qualsiasi grafico creato in Jupyter e salvarlo su disco utilizzando la funzione `plt.savefig()`. Si fornisce alla funzione il nome del file da creare e questa userà il formato specificato dal nome."
   ]
  },
  {
   "cell_type": "code",
   "execution_count": 96,
   "id": "93e372fa-765d-4f34-bd34-f865a108d287",
   "metadata": {},
   "outputs": [
    {
     "data": {
      "image/png": "[encoded data removed]",
      "text/plain": [
       "<Figure size 640x480 with 1 Axes>"
      ]
     },
     "metadata": {},
     "output_type": "display_data"
    }
   ],
   "source": [
    "plt.errorbar(I_m, V_m, xerr=sigmaI, yerr=sigmaV, fmt='s', markersize=1., capsize=0., label='dati (conf. a monte) *')\n",
    "plt.errorbar(I_v, V_v, xerr=sigmaI, yerr=sigmaV, fmt='s', markersize=1., capsize=0., label='dati (conf. a valle) *')\n",
    "\n",
    "plt.annotate('*err. statistici',\n",
    "        xy=(0.02, 0.82), xycoords='axes fraction',\n",
    "        ha='left', va='top', fontsize=10)\n",
    "\n",
    "plt.legend()\n",
    "plt.ylabel('$\\Delta$V [V]', size=14)\n",
    "plt.xlabel('I [$\\mu$A]', size=14)\n",
    "plt.grid()\n",
    "plt.title('Stima di R con il metodo voltamperometrico')\n",
    "plt.xlim(0, 400)\n",
    "plt.ylim(0, 1.2)\n",
    "\n",
    "plt.savefig('metodo_voltamperometrico.png', dpi=200)\n",
    "plt.show()\n",
    "\n"
   ]
  },
  {
   "cell_type": "code",
   "execution_count": null,
   "id": "708073ee-0225-456f-b203-c0e33f48d0ae",
   "metadata": {},
   "outputs": [],
   "source": []
  },
  {
   "cell_type": "markdown",
   "id": "1f48a111-f85c-431e-b7dc-75e84ab8c2e7",
   "metadata": {},
   "source": [
    "### Reminder: Limiti, assi e scale"
   ]
  },
  {
   "cell_type": "code",
   "execution_count": 46,
   "id": "d94d7427-6fc4-4d22-981c-d0ab26e8f07b",
   "metadata": {},
   "outputs": [
    {
     "data": {
      "image/png": "[encoded data removed]",
      "text/plain": [
       "<Figure size 640x480 with 1 Axes>"
      ]
     },
     "metadata": {},
     "output_type": "display_data"
    }
   ],
   "source": [
    "X = np.linspace(-np.pi, np.pi, 256, endpoint=True)\n",
    "\n",
    "plt.plot(X, np.cos(X), label='cos(x)', linewidth=2.5, linestyle=\"-\")\n",
    "plt.plot(X, np.sin(X), label='sin(x)', linewidth=2.5, linestyle=\"-\")\n",
    "\n",
    "plt.xlabel('X')\n",
    "plt.ylabel('Y')\n",
    "\n",
    "plt.ylim(-1.2, 1.2) ## definisce i limiti del plot in y\n",
    "plt.show()"
   ]
  },
  {
   "cell_type": "code",
   "execution_count": 97,
   "id": "45e892f9-acca-4802-bfd0-b3f9d1061b29",
   "metadata": {},
   "outputs": [
    {
     "data": {
      "image/png": "[encoded data removed]",
      "text/plain": [
       "<Figure size 640x480 with 1 Axes>"
      ]
     },
     "metadata": {},
     "output_type": "display_data"
    }
   ],
   "source": [
    "X = np.linspace(-np.pi, np.pi, 256, endpoint=True)\n",
    "\n",
    "plt.plot(X, np.cos(X), label='cos(x)')\n",
    "plt.plot(X, np.sin(X), label='sin(x)')\n",
    "plt.legend()\n",
    "plt.xlabel('X')\n",
    "plt.ylabel('Y')\n",
    "plt.ylim(-1.2, 1.2)\n",
    "\n",
    "plt.xticks([-np.pi, -np.pi/2, 0, np.pi/2, np.pi],\n",
    "           [r'$-\\pi$', r'$-\\pi/2$', r'$0$', r'$+\\pi/2$', r'$+\\pi$']) #assegno una label a ciascun numero della scala x\n",
    "\n",
    "plt.yticks([-1, 0, +1],\n",
    "           [r'$-1$', r'$0$', r'$+1$']) #assegno una label a ciascun numero della scala y\n",
    "\n",
    "plt.show()\n"
   ]
  },
  {
   "cell_type": "code",
   "execution_count": 98,
   "id": "0681e7e6-00dd-4540-a652-043c1e8b249e",
   "metadata": {},
   "outputs": [
    {
     "data": {
      "image/png": "[encoded data removed]",
      "text/plain": [
       "<Figure size 640x480 with 1 Axes>"
      ]
     },
     "metadata": {},
     "output_type": "display_data"
    }
   ],
   "source": [
    "X = np.linspace(0, 10, 100, endpoint=True)\n",
    "\n",
    "plt.plot(X, np.exp(-X), label='cos(x)')\n",
    "plt.xlabel('X')\n",
    "plt.show()"
   ]
  },
  {
   "cell_type": "code",
   "execution_count": 100,
   "id": "2161cda8-48b4-43f3-a694-d8240506cb7d",
   "metadata": {},
   "outputs": [
    {
     "data": {
      "image/png": "[encoded data removed]",
      "text/plain": [
       "<Figure size 640x480 with 1 Axes>"
      ]
     },
     "metadata": {},
     "output_type": "display_data"
    }
   ],
   "source": [
    "X = np.linspace(0, 10, 100, endpoint=True)\n",
    "\n",
    "plt.plot(X, np.exp(-X), label='cos(x)')\n",
    "plt.xlabel('X')\n",
    "plt.yscale('log') #uso la scalalogaritmica per l'asse y\n",
    "plt.xscale('log') #uso la scalalogaritmica per l'asse y\n",
    "plt.show()"
   ]
  },
  {
   "cell_type": "code",
   "execution_count": null,
   "id": "b0d749be-ed3a-4a68-b7e7-4cb6ef08e9a7",
   "metadata": {},
   "outputs": [],
   "source": []
  },
  {
   "cell_type": "code",
   "execution_count": null,
   "id": "2827f5ec-4f26-4214-a33e-6d097cc3ceb7",
   "metadata": {},
   "outputs": [],
   "source": []
  },
  {
   "cell_type": "markdown",
   "id": "5907de57-8587-473e-963d-523cda352f1b",
   "metadata": {},
   "source": [
    "## Minimi quadrati e fit lineare"
   ]
  },
  {
   "cell_type": "markdown",
   "id": "18cbf4e5-7392-4128-9c01-47ea55abba20",
   "metadata": {},
   "source": [
    "I dati raccolti in effetti mostrano un andamento lineare."
   ]
  },
  {
   "cell_type": "code",
   "execution_count": 102,
   "id": "6851df29-f039-423c-8e4d-f1590c1c6bf8",
   "metadata": {},
   "outputs": [
    {
     "data": {
      "image/png": "[encoded data removed]",
      "text/plain": [
       "<Figure size 640x480 with 1 Axes>"
      ]
     },
     "metadata": {},
     "output_type": "display_data"
    }
   ],
   "source": [
    "plt.errorbar(I_m, V_m, xerr=sigmaI, yerr=sigmaV, fmt='s', markersize=2., capsize=1, label='punti sperimentli* (conf. a monte)')\n",
    "plt.errorbar(I_v, V_v, xerr=sigmaI, yerr=sigmaV, fmt='s', markersize=2., capsize=1, label='punti sperimentli* (conf. a valle)')\n",
    "\n",
    "plt.annotate('*err. massimi',\n",
    "        xy=(0.02, 0.82), xycoords='axes fraction',\n",
    "        ha='left', va='top', fontsize=10)\n",
    "\n",
    "plt.legend()\n",
    "plt.ylabel('$\\Delta$V [V]', size=14)\n",
    "plt.xlabel('I [$\\mu$A]', size=14)\n",
    "plt.grid()\n",
    "plt.title('Stima di R con il metodo voltamperometrico')\n",
    "plt.savefig('metodo_voltamperometrico.png', dpi=150)\n",
    "plt.xlim(0, 400)\n",
    "plt.ylim(0, 1.2)\n",
    "plt.show()\n"
   ]
  },
  {
   "cell_type": "markdown",
   "id": "0d038355-9dc9-4e5b-8923-8f3292751a0a",
   "metadata": {},
   "source": [
    "Come possiamo estrarre una stima dei parametri della retta che meglio descrive tale andamento?\n",
    "\n",
    "Possiamo usare il metodo dei minimi quadrati. Per una retta (o in generale per qualsiasi funzione lineare nei parametri) è possibile ricavare analiticamente i parametri che minimizzano il chiquadro, ossia i parametri di best fit."
   ]
  },
  {
   "cell_type": "markdown",
   "id": "c702130d-68d4-4725-83ac-4137bc419787",
   "metadata": {},
   "source": []
  },
  {
   "cell_type": "markdown",
   "id": "bd86c6e0-cc46-4e0b-942b-ef7a54ac6907",
   "metadata": {},
   "source": [
    "implementiamo il metodo in una funzione di python"
   ]
  },
  {
   "cell_type": "code",
   "execution_count": null,
   "id": "26509012-c97d-470f-a6b7-898d07ac5b2a",
   "metadata": {},
   "outputs": [],
   "source": []
  },
  {
   "cell_type": "code",
   "execution_count": 108,
   "id": "6c753638-4563-4105-8aee-4f362170a4db",
   "metadata": {},
   "outputs": [],
   "source": [
    "def fit_lineare_pesato(x,y,w) :\n",
    "    \"\"\"\n",
    "    questa funzione calcola i parametri della retta di best fit y = a + b*x \n",
    "    usando le formule dei minimi quadrati pesati.\n",
    "    N.B. w è il vettore dei pesi, dove il peso w_i è l'inverso del quadrato dell'incertezza \n",
    "    sulla coordinata y_i dell'i-esimo punto.    \n",
    "    \"\"\"\n",
    "    S_0 = np.sum(w)\n",
    "    S_x = np.sum(x*w)     \n",
    "    S_xx = np.sum(x*x*w)     \n",
    "    S_y = np.sum(y*w)\n",
    "    S_xy = np.sum(x*y*w)\n",
    "    D = S_0 * S_xx - S_x**2\n",
    "    a = (S_xx * S_y - S_x * S_xy) / D\n",
    "    b = (S_0 * S_xy - S_x * S_y) / D\n",
    "    var_a = S_xx / D\n",
    "    var_b = S_0 / D\n",
    "    cov_ab = -S_x / D\n",
    "    sigma_a = np.sqrt(var_a)\n",
    "    sigma_b = np.sqrt(var_b)\n",
    "    # Compute chi^2 = \\sum w_i (y_i - (a + b * x_i))^2\n",
    "    chi2 = np.sum (w * (y-(a+b*x))**2)\n",
    "    print(f\"a = {a}+/-{sigma_a}\")\n",
    "    print(f\"b = {b}+/-{sigma_b}\")\n",
    "    print(f\"cov(a,b) = {cov_ab}\")\n",
    "    print(f\"chi/ndof= {chi2}/{len(x)-2} = {chi2/(len(x)-2)}\")\n",
    "\n",
    "    return a,b,sigma_a,sigma_b,cov_ab,chi2"
   ]
  },
  {
   "cell_type": "code",
   "execution_count": null,
   "id": "48fd8f6d-cf5e-4e76-abb8-7bfb69e431fe",
   "metadata": {},
   "outputs": [],
   "source": []
  },
  {
   "cell_type": "markdown",
   "id": "e6d103ff-230c-49ff-abdb-5e31cbd2e9e2",
   "metadata": {},
   "source": [
    "Oppure possiamo salvare la definizione in un file .py, ad esempio mymodule.py, ed importarla come:\n",
    "```python\n",
    "from mymodule import *\n",
    "```"
   ]
  },
  {
   "cell_type": "code",
   "execution_count": null,
   "id": "b4652435-9969-4164-8a53-c2d030f56f92",
   "metadata": {},
   "outputs": [],
   "source": []
  },
  {
   "cell_type": "markdown",
   "id": "5ccf2dad-0a67-4c79-bac1-a12f42ce0773",
   "metadata": {},
   "source": [
    "adesso possiamo chiamare la nostra funzione `fit_lineare_pesato`"
   ]
  },
  {
   "cell_type": "code",
   "execution_count": 111,
   "id": "1e1934af-9243-4726-a3fc-a62db7375c04",
   "metadata": {},
   "outputs": [
    {
     "name": "stdout",
     "output_type": "stream",
     "text": [
      "a = -0.041601085481682495+/-0.012639452781724304\n",
      "b = 0.002350067842605156+/-4.659359789706324e-05\n",
      "cov(a,b) = -5.680687471732247e-07\n",
      "chi/ndof= 8.051560379918623/10 = 0.8051560379918623\n"
     ]
    }
   ],
   "source": [
    "a_m, b_m, sigma_a_m, sigma_b_m, cov_ab_m, chi2_m = fit_lineare_pesato(I_m, V_m, 1.0/sigmaV**2)"
   ]
  },
  {
   "cell_type": "code",
   "execution_count": null,
   "id": "f3826cfc-0243-414c-a364-0ee6fbd89ab5",
   "metadata": {},
   "outputs": [],
   "source": []
  },
  {
   "cell_type": "code",
   "execution_count": 117,
   "id": "bffa9de1-30f1-448b-ba3f-1a2bc5a0772c",
   "metadata": {},
   "outputs": [
    {
     "data": {
      "image/png": "[encoded data removed]",
      "text/plain": [
       "<Figure size 640x480 with 1 Axes>"
      ]
     },
     "metadata": {},
     "output_type": "display_data"
    }
   ],
   "source": [
    "plt.errorbar(I_m, V_m, xerr=sigmaI, yerr=sigmaV, fmt='s', markersize=2., capsize=1, color='black', label='punti sperimentali (err. stat)')\n",
    "\n",
    "plt.plot(I_m, a_m + b_m*I_m, color='red', ls='--', label='retta di bestfit')\n",
    "\n",
    "str_A = '(a = {:.3f} ± {:.3f}) V'.format(a_m, sigma_a_m)\n",
    "str_B = '(b = {:.5f} ± {:.5f}) V/$\\mu$A'.format(b_m, sigma_b_m)\n",
    "\n",
    "plt.annotate(str_A+'\\n'+str_B,\n",
    "        xy=(0.02, 0.82), xycoords='axes fraction',\n",
    "        ha='left', va='top', fontsize=12)\n",
    "\n",
    "plt.legend()\n",
    "plt.ylabel('$\\Delta$V [V]', size=14)\n",
    "plt.xlabel('I [$\\mu$A]', size=14)\n",
    "plt.grid()\n",
    "plt.title('Stima di R con il metodo voltamperometrico - conf. a monte')\n",
    "plt.show()"
   ]
  },
  {
   "cell_type": "code",
   "execution_count": 119,
   "id": "491ccf15-aeb9-473b-9614-8ab654b44702",
   "metadata": {},
   "outputs": [
    {
     "name": "stdout",
     "output_type": "stream",
     "text": [
      "configurazione a monte\n",
      "\n",
      "R = (2.35 ± 0.05) kohm\n",
      "R_x_v = (2.50 ± 0.05) kohm\n"
     ]
    }
   ],
   "source": [
    "R_m = b_m*1E3 #b_m è in V/\\muA -> Mohm\n",
    "sigma_R_m = sigma_b_m*1E3\n",
    "\n",
    "r_v = 40 #40kohm è la resistenza interna del voltmetro per fondoscala 2V\n",
    "R_x_m = (R_m*r_v)/(r_v-R_m) \n",
    "sigma_R_x_m = sigma_R_m * (r_v/(r_v-R_x_m))**2\n",
    "\n",
    "print('configurazione a monte\\n')\n",
    "print('R = ({:.2f} ± {:.2f}) kohm'.format(R_m, sigma_R_m))\n",
    "print('R_x_v = ({:.2f} ± {:.2f}) kohm'.format(R_x_m, sigma_R_x_m))"
   ]
  },
  {
   "cell_type": "code",
   "execution_count": null,
   "id": "133a1a3c-2fd5-46e4-ac31-ecbdcbd26ce0",
   "metadata": {},
   "outputs": [],
   "source": []
  },
  {
   "cell_type": "code",
   "execution_count": 120,
   "id": "486deb98-0ab3-4853-90be-548e96dc1063",
   "metadata": {},
   "outputs": [],
   "source": [
    "# configurazione a valle"
   ]
  },
  {
   "cell_type": "code",
   "execution_count": 121,
   "id": "51ca9066-d14e-40e2-98df-e19a98e58a04",
   "metadata": {},
   "outputs": [
    {
     "name": "stdout",
     "output_type": "stream",
     "text": [
      "a = -0.010516704852443319+/-0.01195518767430008\n",
      "b = 0.0030241767260540983+/-4.6782025880579696e-05\n",
      "cov(a,b) = -5.371085957893057e-07\n",
      "chi/ndof= 11.904797729371136/10 = 1.1904797729371137\n"
     ]
    },
    {
     "data": {
      "image/png": "[encoded data removed]",
      "text/plain": [
       "<Figure size 640x480 with 1 Axes>"
      ]
     },
     "metadata": {},
     "output_type": "display_data"
    },
    {
     "name": "stdout",
     "output_type": "stream",
     "text": [
      "configurazione a valle\n",
      "\n",
      "R = (3.02 ± 0.05) kohm\n",
      "R_x_v = (2.44 ± 0.05) kohm\n"
     ]
    }
   ],
   "source": [
    "a_v, b_v, sigma_a_v, sigma_b_v, cov_ab_v, chi2_v = fit_lineare_pesato(I_v, V_v, 1.0/sigmaV**2)\n",
    "\n",
    "plt.errorbar(I_v, V_v, xerr=sigmaI, yerr=sigmaV, fmt='s', markersize=2., capsize=1, color='black', label='punti sperimentali (err. stat)')\n",
    "plt.plot(I_v, a_v + b_v*I_v, color='red', ls='--', label='retta di bestfit')\n",
    "str_A = '(a = {:.3f} ± {:.3f}) V'.format(a_v, sigma_a_v)\n",
    "str_B = '(b = {:.5f} ± {:.5f}) V/$\\mu$A'.format(b_v, sigma_b_v)\n",
    "plt.annotate(str_A+'\\n'+str_B,\n",
    "        xy=(0.02, 0.82), xycoords='axes fraction',\n",
    "        ha='left', va='top', fontsize=12)\n",
    "plt.legend()\n",
    "plt.ylabel('$\\Delta$V [V]', size=14)\n",
    "plt.xlabel('I [$\\mu$A]', size=14)\n",
    "plt.grid()\n",
    "plt.title('Stima di R con il metodo voltamperometrico - conf. a valle')\n",
    "plt.show()\n",
    "\n",
    "\n",
    "R_v = b_v*1E3\n",
    "sigma_R_v = sigma_b_v*1E3\n",
    "R_x_v = R_v - 0.588\n",
    "sigma_R_x_v = sigma_R_v\n",
    "print('configurazione a valle\\n')\n",
    "print('R = ({:.2f} ± {:.2f}) kohm'.format(R_v, sigma_R_v))\n",
    "print('R_x_v = ({:.2f} ± {:.2f}) kohm'.format(R_x_v, sigma_R_x_v))"
   ]
  },
  {
   "cell_type": "code",
   "execution_count": null,
   "id": "37ca22d0-9d4a-4ced-b4be-8fcb2fa91141",
   "metadata": {},
   "outputs": [],
   "source": []
  },
  {
   "cell_type": "code",
   "execution_count": null,
   "id": "b0126555-9dd9-4c63-a307-0cd1cc04b0ad",
   "metadata": {},
   "outputs": [],
   "source": []
  },
  {
   "cell_type": "code",
   "execution_count": 122,
   "id": "8751dd61-2681-439a-a437-e8f00443094c",
   "metadata": {},
   "outputs": [
    {
     "data": {
      "image/png": "[encoded data removed]",
      "text/plain": [
       "<Figure size 640x480 with 1 Axes>"
      ]
     },
     "metadata": {},
     "output_type": "display_data"
    }
   ],
   "source": [
    "plt.errorbar(I_m, V_m, xerr=sigmaI, yerr=sigmaV, fmt='s', markersize=2., capsize=1, label='dati (conf. a monte)')\n",
    "plt.errorbar(I_v, V_v, xerr=sigmaI, yerr=sigmaV, fmt='s', markersize=2., capsize=1, label='dati (conf. a valle)')\n",
    "\n",
    "x = np.arange(0, 450)\n",
    "plt.plot(x, a_m + b_m*x, color='teal', ls='-.', lw=1, label='bestfit (conf. a monte)')\n",
    "plt.plot(x, a_v + b_v*x, color='orange', ls='-.', lw=1, label='bestfit (conf. a valle)')\n",
    "\n",
    "\n",
    "plt.annotate('*err. statistici',\n",
    "        xy=(0.02, 0.62), xycoords='axes fraction',\n",
    "        ha='left', va='top', fontsize=10)\n",
    "\n",
    "plt.legend()\n",
    "plt.ylabel('$\\Delta$V [V]', size=14)\n",
    "plt.xlabel('I [$\\mu$A]', size=14)\n",
    "plt.grid()\n",
    "plt.title('Stima di R con il metodo voltamperometrico')\n",
    "#plt.savefig('metodo_voltamperometrico.png', dpi=300)\n",
    "#ricordate di chiamare savefig prima di show()\n",
    "#plt.xlim(0, 400)\n",
    "plt.ylim(-0.05, 1.2)\n",
    "plt.show()\n"
   ]
  },
  {
   "cell_type": "code",
   "execution_count": null,
   "id": "ccc5a26b-d931-4d6a-8520-f7f4b9fd4a46",
   "metadata": {},
   "outputs": [],
   "source": []
  },
  {
   "cell_type": "code",
   "execution_count": 124,
   "id": "bce9b65c-019a-4e96-ad9f-79660b410f6c",
   "metadata": {},
   "outputs": [],
   "source": [
    "R = np.array([R_v, R_m]) #array con i valori apparenti di R\n",
    "sigma_R = np.array([sigma_R_v, sigma_R_m]) #array con le incertezze delle due stime\n",
    "\n",
    "R_x = np.array([R_x_v, R_x_m]) #array con i valori corretti di R\n",
    "sigma_R_x = np.array([sigma_R_x_v, sigma_R_x_m]) #array con le incertezze delle due stime"
   ]
  },
  {
   "cell_type": "code",
   "execution_count": null,
   "id": "09bd5377-ecd5-402e-ab84-9959688b2fde",
   "metadata": {},
   "outputs": [],
   "source": []
  },
  {
   "cell_type": "markdown",
   "id": "b5d1bce2-199a-4c68-b481-86ef93f4b9aa",
   "metadata": {},
   "source": [
    "Sono consistenti queste misure?"
   ]
  },
  {
   "cell_type": "code",
   "execution_count": 125,
   "id": "244fa76f-0f5b-4f35-9adf-49b16e399599",
   "metadata": {},
   "outputs": [
    {
     "name": "stdout",
     "output_type": "stream",
     "text": [
      "configurazione a valle: R = (2.44 ± 0.05) kohm\n",
      "configurazione a monte: R = (2.50 ± 0.05) kohm\n"
     ]
    }
   ],
   "source": [
    "print('configurazione a valle: R = ({:.2f} ± {:.2f}) kohm'.format(R_x_v, sigma_R_x_v))\n",
    "print('configurazione a monte: R = ({:.2f} ± {:.2f}) kohm'.format(R_x_m, sigma_R_x_m))"
   ]
  },
  {
   "cell_type": "code",
   "execution_count": null,
   "id": "1147f9d9-d8e1-4419-86db-2043cc8df8cf",
   "metadata": {},
   "outputs": [],
   "source": []
  },
  {
   "cell_type": "markdown",
   "id": "a4a685a0-6b96-4c90-9de7-158a17807a9c",
   "metadata": {},
   "source": [
    "Valutiamo quanto discrepano, ossia calcoliamo lo scarto dei due valori normalizzato all'errore"
   ]
  },
  {
   "cell_type": "code",
   "execution_count": 127,
   "id": "6613cbc0-518e-450a-8e2f-fc9b6906e82f",
   "metadata": {},
   "outputs": [
    {
     "data": {
      "text/plain": [
       "0.8569007298280025"
      ]
     },
     "execution_count": 127,
     "metadata": {},
     "output_type": "execute_result"
    }
   ],
   "source": [
    "abs(R_x[1]-R_x[0])/(np.sqrt(np.sum(sigma_R_x**2)))"
   ]
  },
  {
   "cell_type": "code",
   "execution_count": null,
   "id": "3bb4090e-6499-4dc0-846d-722f71a6f3e9",
   "metadata": {},
   "outputs": [],
   "source": []
  },
  {
   "cell_type": "markdown",
   "id": "1d168bc1-6f2a-498d-87a3-8d95f1a8e01e",
   "metadata": {},
   "source": [
    "Quale è la migliore stima di R?\n",
    "\n",
    "Possiamo fornire come stima la media pesata dei valori ottenuti con i due metodi"
   ]
  },
  {
   "cell_type": "code",
   "execution_count": 128,
   "id": "a9ea24a7-c977-45d5-8e86-a44c13a4bb96",
   "metadata": {},
   "outputs": [
    {
     "name": "stdout",
     "output_type": "stream",
     "text": [
      "media pesata: 2.46 +/- 0.04\n"
     ]
    }
   ],
   "source": [
    "W_Rw = 1/sigma_R_x**2\n",
    "Rw = np.average(R_x, weights = W_Rw) #effettua la media pesata\n",
    "sigmaRw = np.sqrt(1/np.sum(W_Rw))\n",
    "print(f'media pesata: {Rw:.2f} +/- {sigmaRw:.2f}')"
   ]
  },
  {
   "cell_type": "code",
   "execution_count": null,
   "id": "3941fcfd-e3c8-4d8a-a92b-965a67cc2426",
   "metadata": {},
   "outputs": [],
   "source": []
  },
  {
   "cell_type": "code",
   "execution_count": 129,
   "id": "af1593b1-62d5-4538-bdb3-610c8cdb0503",
   "metadata": {},
   "outputs": [
    {
     "data": {
      "image/png": "[encoded data removed]",
      "text/plain": [
       "<Figure size 640x480 with 1 Axes>"
      ]
     },
     "metadata": {},
     "output_type": "display_data"
    }
   ],
   "source": [
    "plt.errorbar(R, [1, 2], xerr=sigma_R, fmt='o', capsize=3, label='valori apparenti')\n",
    "plt.errorbar(R_x, [1, 2], xerr=sigma_R_x, fmt='o', capsize=3, label='valori corretti')\n",
    "plt.legend()\n",
    "plt.errorbar(Rw, [0], xerr=sigmaRw, fmt='o', capsize=3, color='C1')\n",
    "plt.yticks([0, 1, 2], ['media pesata', 'conf. a valle', 'conf. a monte'], size=12)\n",
    "#plt.xlim(2.2, 2.7)\n",
    "plt.ylim(-0.1, 2.1)\n",
    "plt.xlabel(r'$R_x$ [k$\\Omega$]', size=12)\n",
    "plt.axvspan(Rw-sigmaRw, Rw+sigmaRw, alpha=0.15, color='C1')\n",
    "plt.grid(axis='y')\n",
    "plt.show()"
   ]
  },
  {
   "cell_type": "code",
   "execution_count": null,
   "id": "2e11b537-b8fa-4e4d-b260-9dbb3a8132e0",
   "metadata": {},
   "outputs": [],
   "source": []
  },
  {
   "cell_type": "markdown",
   "id": "a4c9e07f-529d-4a4d-ad91-458f04c9fccf",
   "metadata": {},
   "source": [
    "## minimizzazione con ```scipy```"
   ]
  },
  {
   "cell_type": "markdown",
   "id": "cf13a075-3985-4f11-9698-b23f540ddc51",
   "metadata": {},
   "source": [
    "Per casi in cui relazione funzionale y=y(x) funzione sia piu complicata di una retta potrebbe essere non banale o non possibile trovare una soluzione analitica alla minimizzazione del chi-quadro.\n",
    "\n",
    "In questi casi si procede con una minimizzazione numerica del chi-quadro. "
   ]
  },
  {
   "cell_type": "markdown",
   "id": "50fde0ee-99ac-4b5c-ac4b-765b16ced3a8",
   "metadata": {},
   "source": [
    "La libreria SciPy fornisce la funzione [curve_fit](https://docs.scipy.org/doc/scipy/reference/generated/scipy.optimize.curve_fit.html), che implementa la minimizzazione numerica del chiquadro"
   ]
  },
  {
   "cell_type": "code",
   "execution_count": 107,
   "id": "a5b9c0cb-e209-4c45-be7c-0d61150ede06",
   "metadata": {},
   "outputs": [],
   "source": [
    "from scipy.optimize import curve_fit"
   ]
  },
  {
   "cell_type": "markdown",
   "id": "f1dad001-fa96-4a34-8f3d-c1aaaf10a779",
   "metadata": {},
   "source": [
    "N.B. Per calcolare l'errore dalle seconde derivate di $\\chi^2$, è necessario abilitare l'opzione absolute_sigma, che è di default impostata su False."
   ]
  },
  {
   "cell_type": "code",
   "execution_count": 108,
   "id": "4fdcd318-6b2b-46be-b799-e1b768283b01",
   "metadata": {},
   "outputs": [],
   "source": [
    "# prototipo funzione da fittare\n",
    "\n",
    "def func(x, a, b):\n",
    "    return a + b*x"
   ]
  },
  {
   "cell_type": "markdown",
   "id": "3de4909b-e273-452b-99f0-35412a885305",
   "metadata": {},
   "source": [
    "La funzione prototipo f(x, ...), deve prendere la variabile indipendente come primo argomento e i parametri  come argomenti rimanenti."
   ]
  },
  {
   "cell_type": "code",
   "execution_count": 109,
   "id": "28693834-5aa6-4079-9373-fc890c976722",
   "metadata": {},
   "outputs": [],
   "source": [
    "popt, pcov = curve_fit(func, I_m, V_m, sigma=sigmaV, absolute_sigma=True)\n",
    "\n",
    "#popt, pcov = curve_fit(func, I_m, V_m, p0=[2, 1], sigma=dV, absolute_sigma=True)"
   ]
  },
  {
   "cell_type": "code",
   "execution_count": 110,
   "id": "d4e55caf-d1cf-42c1-a280-1a338672943a",
   "metadata": {},
   "outputs": [
    {
     "name": "stdout",
     "output_type": "stream",
     "text": [
      "optimal values: \n",
      " [-0.04160108  0.00235007]\n",
      "--------------------------\n",
      "covariance matrix: \n",
      " [[ 1.59755800e-04 -5.68068892e-07]\n",
      " [-5.68068892e-07  2.17096397e-09]]\n"
     ]
    }
   ],
   "source": [
    "print('optimal values: \\n', popt)\n",
    "print('--------------------------')\n",
    "print('covariance matrix: \\n', pcov)"
   ]
  },
  {
   "cell_type": "code",
   "execution_count": 111,
   "id": "20273c6b-3010-4d17-98e1-42c4d054d078",
   "metadata": {},
   "outputs": [
    {
     "name": "stdout",
     "output_type": "stream",
     "text": [
      "a = -0.042 ± 0.013\n",
      "b = 0.00235 ± 0.00005\n",
      "cov(a,b) = -5.7e-07\n"
     ]
    }
   ],
   "source": [
    "a, b = popt[0], popt[1]\n",
    "var_a, cov_ab, var_b = pcov[0,0], pcov[0,1], pcov[1,1]\n",
    "sigma_a = np.sqrt(var_a)\n",
    "sigma_b = np.sqrt(var_b)\n",
    "\n",
    "print('a = {:.3f} ± {:.3f}'.format(a, sigma_a))\n",
    "print('b = {:.5f} ± {:.5f}'.format(b, sigma_b))\n",
    "print(f\"cov(a,b) = {cov_ab:.2}\")"
   ]
  },
  {
   "cell_type": "code",
   "execution_count": null,
   "id": "bb3e8bc3-6b8e-4fda-809d-62044fa6878e",
   "metadata": {},
   "outputs": [],
   "source": []
  },
  {
   "cell_type": "code",
   "execution_count": null,
   "id": "ca88b5f1-7702-41da-8c53-786791251236",
   "metadata": {},
   "outputs": [],
   "source": []
  },
  {
   "cell_type": "code",
   "execution_count": null,
   "id": "0c9d4a69-7e1a-4e38-be14-2faa6c472a84",
   "metadata": {},
   "outputs": [],
   "source": []
  },
  {
   "cell_type": "markdown",
   "id": "b60deb3d-daaa-4d82-82f8-58972815c9f2",
   "metadata": {},
   "source": [
    "## Importare i dati salvati su file\n",
    "\n",
    "Se volessimo caricare in python dati salvati in file di testo o un foglio excel?"
   ]
  },
  {
   "cell_type": "markdown",
   "id": "755315b7-ec10-44c5-aea0-adf6d0e44977",
   "metadata": {},
   "source": [
    "#### con numpy"
   ]
  },
  {
   "cell_type": "code",
   "execution_count": 114,
   "id": "24911a1d-4968-45bc-91ea-ed9861fc627f",
   "metadata": {},
   "outputs": [],
   "source": [
    "import numpy as np"
   ]
  },
  {
   "cell_type": "code",
   "execution_count": 115,
   "id": "5d3d318b-2ed1-4e8a-8618-f989313df9d1",
   "metadata": {},
   "outputs": [],
   "source": [
    "file_path = 'dati/dati.txt' # Specifica il percorso del file txt"
   ]
  },
  {
   "cell_type": "code",
   "execution_count": 116,
   "id": "95eee540-c697-415a-b518-495d61508e21",
   "metadata": {},
   "outputs": [
    {
     "name": "stdout",
     "output_type": "stream",
     "text": [
      " Il volume nell'unit… D Š Dati\n",
      " Numero di serie del volume: 5403-B83C\n",
      "\n",
      " Directory di D:\\Research\\Didattica\\Tutorato_LAB2\\lezione info\\python_lecture_lab2\n",
      "\n",
      "05/10/2023  12:30    <DIR>          .\n",
      "05/10/2023  12:30    <DIR>          ..\n",
      "05/10/2023  11:17    <DIR>          .ipynb_checkpoints\n",
      "05/10/2023  11:20            15.895 00_jupyter_intro.ipynb\n",
      "05/10/2023  12:30           699.320 01_analisi_dati_in_python.ipynb\n",
      "05/10/2023  12:30    <DIR>          dati\n",
      "05/10/2023  12:00            55.690 metodo_voltamperometrico.png\n",
      "05/10/2023  12:07               908 mymodule.py\n",
      "04/10/2023  22:23                22 README.md\n",
      "05/10/2023  11:21             1.530 Untitled.ipynb\n",
      "               6 File        773.365 byte\n",
      "               4 Directory  15.640.834.048 byte disponibili\n"
     ]
    }
   ],
   "source": [
    "ls"
   ]
  },
  {
   "cell_type": "code",
   "execution_count": 117,
   "id": "76373c5d-be12-4cfe-a138-cc98680851db",
   "metadata": {},
   "outputs": [
    {
     "ename": "ValueError",
     "evalue": "could not convert string '0,32' to float64 at row 0, column 1.",
     "output_type": "error",
     "traceback": [
      "\u001b[1;31m---------------------------------------------------------------------------\u001b[0m",
      "\u001b[1;31mValueError\u001b[0m                                Traceback (most recent call last)",
      "Cell \u001b[1;32mIn[117], line 1\u001b[0m\n\u001b[1;32m----> 1\u001b[0m data \u001b[38;5;241m=\u001b[39m \u001b[43mnp\u001b[49m\u001b[38;5;241;43m.\u001b[39;49m\u001b[43mloadtxt\u001b[49m\u001b[43m(\u001b[49m\u001b[43mfile_path\u001b[49m\u001b[43m)\u001b[49m\n",
      "File \u001b[1;32m~\\anaconda3\\lib\\site-packages\\numpy\\lib\\npyio.py:1338\u001b[0m, in \u001b[0;36mloadtxt\u001b[1;34m(fname, dtype, comments, delimiter, converters, skiprows, usecols, unpack, ndmin, encoding, max_rows, quotechar, like)\u001b[0m\n\u001b[0;32m   1335\u001b[0m \u001b[38;5;28;01mif\u001b[39;00m \u001b[38;5;28misinstance\u001b[39m(delimiter, \u001b[38;5;28mbytes\u001b[39m):\n\u001b[0;32m   1336\u001b[0m     delimiter \u001b[38;5;241m=\u001b[39m delimiter\u001b[38;5;241m.\u001b[39mdecode(\u001b[38;5;124m'\u001b[39m\u001b[38;5;124mlatin1\u001b[39m\u001b[38;5;124m'\u001b[39m)\n\u001b[1;32m-> 1338\u001b[0m arr \u001b[38;5;241m=\u001b[39m \u001b[43m_read\u001b[49m\u001b[43m(\u001b[49m\u001b[43mfname\u001b[49m\u001b[43m,\u001b[49m\u001b[43m \u001b[49m\u001b[43mdtype\u001b[49m\u001b[38;5;241;43m=\u001b[39;49m\u001b[43mdtype\u001b[49m\u001b[43m,\u001b[49m\u001b[43m \u001b[49m\u001b[43mcomment\u001b[49m\u001b[38;5;241;43m=\u001b[39;49m\u001b[43mcomment\u001b[49m\u001b[43m,\u001b[49m\u001b[43m \u001b[49m\u001b[43mdelimiter\u001b[49m\u001b[38;5;241;43m=\u001b[39;49m\u001b[43mdelimiter\u001b[49m\u001b[43m,\u001b[49m\n\u001b[0;32m   1339\u001b[0m \u001b[43m            \u001b[49m\u001b[43mconverters\u001b[49m\u001b[38;5;241;43m=\u001b[39;49m\u001b[43mconverters\u001b[49m\u001b[43m,\u001b[49m\u001b[43m \u001b[49m\u001b[43mskiplines\u001b[49m\u001b[38;5;241;43m=\u001b[39;49m\u001b[43mskiprows\u001b[49m\u001b[43m,\u001b[49m\u001b[43m \u001b[49m\u001b[43musecols\u001b[49m\u001b[38;5;241;43m=\u001b[39;49m\u001b[43musecols\u001b[49m\u001b[43m,\u001b[49m\n\u001b[0;32m   1340\u001b[0m \u001b[43m            \u001b[49m\u001b[43munpack\u001b[49m\u001b[38;5;241;43m=\u001b[39;49m\u001b[43munpack\u001b[49m\u001b[43m,\u001b[49m\u001b[43m \u001b[49m\u001b[43mndmin\u001b[49m\u001b[38;5;241;43m=\u001b[39;49m\u001b[43mndmin\u001b[49m\u001b[43m,\u001b[49m\u001b[43m \u001b[49m\u001b[43mencoding\u001b[49m\u001b[38;5;241;43m=\u001b[39;49m\u001b[43mencoding\u001b[49m\u001b[43m,\u001b[49m\n\u001b[0;32m   1341\u001b[0m \u001b[43m            \u001b[49m\u001b[43mmax_rows\u001b[49m\u001b[38;5;241;43m=\u001b[39;49m\u001b[43mmax_rows\u001b[49m\u001b[43m,\u001b[49m\u001b[43m \u001b[49m\u001b[43mquote\u001b[49m\u001b[38;5;241;43m=\u001b[39;49m\u001b[43mquotechar\u001b[49m\u001b[43m)\u001b[49m\n\u001b[0;32m   1343\u001b[0m \u001b[38;5;28;01mreturn\u001b[39;00m arr\n",
      "File \u001b[1;32m~\\anaconda3\\lib\\site-packages\\numpy\\lib\\npyio.py:999\u001b[0m, in \u001b[0;36m_read\u001b[1;34m(fname, delimiter, comment, quote, imaginary_unit, usecols, skiplines, max_rows, converters, ndmin, unpack, dtype, encoding)\u001b[0m\n\u001b[0;32m    996\u001b[0m     data \u001b[38;5;241m=\u001b[39m _preprocess_comments(data, comments, encoding)\n\u001b[0;32m    998\u001b[0m \u001b[38;5;28;01mif\u001b[39;00m read_dtype_via_object_chunks \u001b[38;5;129;01mis\u001b[39;00m \u001b[38;5;28;01mNone\u001b[39;00m:\n\u001b[1;32m--> 999\u001b[0m     arr \u001b[38;5;241m=\u001b[39m \u001b[43m_load_from_filelike\u001b[49m\u001b[43m(\u001b[49m\n\u001b[0;32m   1000\u001b[0m \u001b[43m        \u001b[49m\u001b[43mdata\u001b[49m\u001b[43m,\u001b[49m\u001b[43m \u001b[49m\u001b[43mdelimiter\u001b[49m\u001b[38;5;241;43m=\u001b[39;49m\u001b[43mdelimiter\u001b[49m\u001b[43m,\u001b[49m\u001b[43m \u001b[49m\u001b[43mcomment\u001b[49m\u001b[38;5;241;43m=\u001b[39;49m\u001b[43mcomment\u001b[49m\u001b[43m,\u001b[49m\u001b[43m \u001b[49m\u001b[43mquote\u001b[49m\u001b[38;5;241;43m=\u001b[39;49m\u001b[43mquote\u001b[49m\u001b[43m,\u001b[49m\n\u001b[0;32m   1001\u001b[0m \u001b[43m        \u001b[49m\u001b[43mimaginary_unit\u001b[49m\u001b[38;5;241;43m=\u001b[39;49m\u001b[43mimaginary_unit\u001b[49m\u001b[43m,\u001b[49m\n\u001b[0;32m   1002\u001b[0m \u001b[43m        \u001b[49m\u001b[43musecols\u001b[49m\u001b[38;5;241;43m=\u001b[39;49m\u001b[43musecols\u001b[49m\u001b[43m,\u001b[49m\u001b[43m \u001b[49m\u001b[43mskiplines\u001b[49m\u001b[38;5;241;43m=\u001b[39;49m\u001b[43mskiplines\u001b[49m\u001b[43m,\u001b[49m\u001b[43m \u001b[49m\u001b[43mmax_rows\u001b[49m\u001b[38;5;241;43m=\u001b[39;49m\u001b[43mmax_rows\u001b[49m\u001b[43m,\u001b[49m\n\u001b[0;32m   1003\u001b[0m \u001b[43m        \u001b[49m\u001b[43mconverters\u001b[49m\u001b[38;5;241;43m=\u001b[39;49m\u001b[43mconverters\u001b[49m\u001b[43m,\u001b[49m\u001b[43m \u001b[49m\u001b[43mdtype\u001b[49m\u001b[38;5;241;43m=\u001b[39;49m\u001b[43mdtype\u001b[49m\u001b[43m,\u001b[49m\n\u001b[0;32m   1004\u001b[0m \u001b[43m        \u001b[49m\u001b[43mencoding\u001b[49m\u001b[38;5;241;43m=\u001b[39;49m\u001b[43mencoding\u001b[49m\u001b[43m,\u001b[49m\u001b[43m \u001b[49m\u001b[43mfilelike\u001b[49m\u001b[38;5;241;43m=\u001b[39;49m\u001b[43mfilelike\u001b[49m\u001b[43m,\u001b[49m\n\u001b[0;32m   1005\u001b[0m \u001b[43m        \u001b[49m\u001b[43mbyte_converters\u001b[49m\u001b[38;5;241;43m=\u001b[39;49m\u001b[43mbyte_converters\u001b[49m\u001b[43m)\u001b[49m\n\u001b[0;32m   1007\u001b[0m \u001b[38;5;28;01melse\u001b[39;00m:\n\u001b[0;32m   1008\u001b[0m     \u001b[38;5;66;03m# This branch reads the file into chunks of object arrays and then\u001b[39;00m\n\u001b[0;32m   1009\u001b[0m     \u001b[38;5;66;03m# casts them to the desired actual dtype.  This ensures correct\u001b[39;00m\n\u001b[0;32m   1010\u001b[0m     \u001b[38;5;66;03m# string-length and datetime-unit discovery (like `arr.astype()`).\u001b[39;00m\n\u001b[0;32m   1011\u001b[0m     \u001b[38;5;66;03m# Due to chunking, certain error reports are less clear, currently.\u001b[39;00m\n\u001b[0;32m   1012\u001b[0m     \u001b[38;5;28;01mif\u001b[39;00m filelike:\n",
      "\u001b[1;31mValueError\u001b[0m: could not convert string '0,32' to float64 at row 0, column 1."
     ]
    }
   ],
   "source": [
    "data = np.loadtxt(file_path)"
   ]
  },
  {
   "cell_type": "markdown",
   "id": "d5a3d01b-3ce2-4a6b-a55d-1895bdf31b8a",
   "metadata": {},
   "source": [
    "Nota Bene: `loadtext` si aspetta che il separatore dei decimali sia `.`, non `,`\n",
    "\n",
    "un po di riferimenti su `loadtext` sono [qui](https://numpy.org/doc/stable/reference/generated/numpy.loadtxt.html)"
   ]
  },
  {
   "cell_type": "code",
   "execution_count": 119,
   "id": "25eaeeab-eac2-48d9-8e99-3c53db8d8527",
   "metadata": {},
   "outputs": [
    {
     "data": {
      "text/plain": [
       "array([[0.32 , 0.15 ],\n",
       "       [0.36 , 0.17 ],\n",
       "       [0.4  , 0.185],\n",
       "       [0.44 , 0.21 ],\n",
       "       [0.48 , 0.23 ],\n",
       "       [0.56 , 0.25 ],\n",
       "       [0.6  , 0.275],\n",
       "       [0.64 , 0.29 ],\n",
       "       [0.68 , 0.31 ],\n",
       "       [0.76 , 0.34 ],\n",
       "       [0.8  , 0.36 ],\n",
       "       [0.84 , 0.37 ]])"
      ]
     },
     "execution_count": 119,
     "metadata": {},
     "output_type": "execute_result"
    }
   ],
   "source": [
    "data = np.loadtxt('dati/dati_bis.txt', skiprows=1) #saltiamo la prima riga del txt. Può essere un header, o delle nostre note\n",
    "data"
   ]
  },
  {
   "cell_type": "code",
   "execution_count": 121,
   "id": "9924e69a-22fc-4f29-8714-af8331692935",
   "metadata": {},
   "outputs": [
    {
     "data": {
      "text/plain": [
       "array([[0.32 , 0.36 , 0.4  , 0.44 , 0.48 , 0.56 , 0.6  , 0.64 , 0.68 ,\n",
       "        0.76 , 0.8  , 0.84 ],\n",
       "       [0.15 , 0.17 , 0.185, 0.21 , 0.23 , 0.25 , 0.275, 0.29 , 0.31 ,\n",
       "        0.34 , 0.36 , 0.37 ]])"
      ]
     },
     "execution_count": 121,
     "metadata": {},
     "output_type": "execute_result"
    }
   ],
   "source": [
    "data.T"
   ]
  },
  {
   "cell_type": "code",
   "execution_count": 96,
   "id": "b642c435-8d59-4ff1-a55d-928391943513",
   "metadata": {},
   "outputs": [],
   "source": [
    "V, I = data.T"
   ]
  },
  {
   "cell_type": "code",
   "execution_count": 97,
   "id": "2266fd03-c326-4f44-8c25-ba062ad5b5bd",
   "metadata": {},
   "outputs": [
    {
     "data": {
      "image/png": "[encoded data removed]",
      "text/plain": [
       "<Figure size 640x480 with 1 Axes>"
      ]
     },
     "metadata": {},
     "output_type": "display_data"
    }
   ],
   "source": [
    "plt.scatter(I*1000, V)\n",
    "plt.ylabel('$\\Delta$V [V]', size=14)\n",
    "plt.xlabel('I [$\\mu$A]', size=14)\n",
    "plt.grid()\n",
    "plt.show()"
   ]
  },
  {
   "cell_type": "code",
   "execution_count": null,
   "id": "9baeeedc-9ea3-4262-af73-823d4f617bf4",
   "metadata": {},
   "outputs": [],
   "source": []
  },
  {
   "cell_type": "code",
   "execution_count": null,
   "id": "dc094cfe-52be-4606-8c7e-07e1be888acd",
   "metadata": {},
   "outputs": [],
   "source": []
  },
  {
   "cell_type": "markdown",
   "id": "e4895b38-f32f-4b48-b5b3-e6975e876402",
   "metadata": {},
   "source": [
    "#### con pandas"
   ]
  },
  {
   "cell_type": "code",
   "execution_count": 124,
   "id": "a0cdf0ae-2a39-45a9-b2ec-12fc25af295d",
   "metadata": {},
   "outputs": [],
   "source": [
    "import pandas as pd"
   ]
  },
  {
   "cell_type": "code",
   "execution_count": 125,
   "id": "e2bd5c9a-336c-4c7f-a234-375650e8dbbc",
   "metadata": {},
   "outputs": [
    {
     "data": {
      "text/html": [
       "<div>\n",
       "<style scoped>\n",
       "    .dataframe tbody tr th:only-of-type {\n",
       "        vertical-align: middle;\n",
       "    }\n",
       "\n",
       "    .dataframe tbody tr th {\n",
       "        vertical-align: top;\n",
       "    }\n",
       "\n",
       "    .dataframe thead th {\n",
       "        text-align: right;\n",
       "    }\n",
       "</style>\n",
       "<table border=\"1\" class=\"dataframe\">\n",
       "  <thead>\n",
       "    <tr style=\"text-align: right;\">\n",
       "      <th></th>\n",
       "      <th></th>\n",
       "      <th>Vx;Ix</th>\n",
       "    </tr>\n",
       "  </thead>\n",
       "  <tbody>\n",
       "    <tr>\n",
       "      <th rowspan=\"12\" valign=\"top\">0</th>\n",
       "      <th>32;0</th>\n",
       "      <td>15</td>\n",
       "    </tr>\n",
       "    <tr>\n",
       "      <th>36;0</th>\n",
       "      <td>17</td>\n",
       "    </tr>\n",
       "    <tr>\n",
       "      <th>4;0</th>\n",
       "      <td>185</td>\n",
       "    </tr>\n",
       "    <tr>\n",
       "      <th>44;0</th>\n",
       "      <td>21</td>\n",
       "    </tr>\n",
       "    <tr>\n",
       "      <th>48;0</th>\n",
       "      <td>23</td>\n",
       "    </tr>\n",
       "    <tr>\n",
       "      <th>56;0</th>\n",
       "      <td>25</td>\n",
       "    </tr>\n",
       "    <tr>\n",
       "      <th>6;0</th>\n",
       "      <td>275</td>\n",
       "    </tr>\n",
       "    <tr>\n",
       "      <th>64;0</th>\n",
       "      <td>29</td>\n",
       "    </tr>\n",
       "    <tr>\n",
       "      <th>68;0</th>\n",
       "      <td>31</td>\n",
       "    </tr>\n",
       "    <tr>\n",
       "      <th>76;0</th>\n",
       "      <td>34</td>\n",
       "    </tr>\n",
       "    <tr>\n",
       "      <th>8;0</th>\n",
       "      <td>36</td>\n",
       "    </tr>\n",
       "    <tr>\n",
       "      <th>84;0</th>\n",
       "      <td>37</td>\n",
       "    </tr>\n",
       "  </tbody>\n",
       "</table>\n",
       "</div>"
      ],
      "text/plain": [
       "        Vx;Ix\n",
       "0 32;0     15\n",
       "  36;0     17\n",
       "  4;0     185\n",
       "  44;0     21\n",
       "  48;0     23\n",
       "  56;0     25\n",
       "  6;0     275\n",
       "  64;0     29\n",
       "  68;0     31\n",
       "  76;0     34\n",
       "  8;0      36\n",
       "  84;0     37"
      ]
     },
     "execution_count": 125,
     "metadata": {},
     "output_type": "execute_result"
    }
   ],
   "source": [
    "data = pd.read_csv('dati/dati_bis.csv')\n",
    "data"
   ]
  },
  {
   "cell_type": "code",
   "execution_count": 126,
   "id": "bf90411c-8353-46e6-b180-0cc4cb76caa9",
   "metadata": {},
   "outputs": [
    {
     "data": {
      "text/html": [
       "<div>\n",
       "<style scoped>\n",
       "    .dataframe tbody tr th:only-of-type {\n",
       "        vertical-align: middle;\n",
       "    }\n",
       "\n",
       "    .dataframe tbody tr th {\n",
       "        vertical-align: top;\n",
       "    }\n",
       "\n",
       "    .dataframe thead th {\n",
       "        text-align: right;\n",
       "    }\n",
       "</style>\n",
       "<table border=\"1\" class=\"dataframe\">\n",
       "  <thead>\n",
       "    <tr style=\"text-align: right;\">\n",
       "      <th></th>\n",
       "      <th>Vx</th>\n",
       "      <th>Ix</th>\n",
       "    </tr>\n",
       "  </thead>\n",
       "  <tbody>\n",
       "    <tr>\n",
       "      <th>0</th>\n",
       "      <td>0.32</td>\n",
       "      <td>0.150</td>\n",
       "    </tr>\n",
       "    <tr>\n",
       "      <th>1</th>\n",
       "      <td>0.36</td>\n",
       "      <td>0.170</td>\n",
       "    </tr>\n",
       "    <tr>\n",
       "      <th>2</th>\n",
       "      <td>0.40</td>\n",
       "      <td>0.185</td>\n",
       "    </tr>\n",
       "    <tr>\n",
       "      <th>3</th>\n",
       "      <td>0.44</td>\n",
       "      <td>0.210</td>\n",
       "    </tr>\n",
       "    <tr>\n",
       "      <th>4</th>\n",
       "      <td>0.48</td>\n",
       "      <td>0.230</td>\n",
       "    </tr>\n",
       "    <tr>\n",
       "      <th>5</th>\n",
       "      <td>0.56</td>\n",
       "      <td>0.250</td>\n",
       "    </tr>\n",
       "    <tr>\n",
       "      <th>6</th>\n",
       "      <td>0.60</td>\n",
       "      <td>0.275</td>\n",
       "    </tr>\n",
       "    <tr>\n",
       "      <th>7</th>\n",
       "      <td>0.64</td>\n",
       "      <td>0.290</td>\n",
       "    </tr>\n",
       "    <tr>\n",
       "      <th>8</th>\n",
       "      <td>0.68</td>\n",
       "      <td>0.310</td>\n",
       "    </tr>\n",
       "    <tr>\n",
       "      <th>9</th>\n",
       "      <td>0.76</td>\n",
       "      <td>0.340</td>\n",
       "    </tr>\n",
       "    <tr>\n",
       "      <th>10</th>\n",
       "      <td>0.80</td>\n",
       "      <td>0.360</td>\n",
       "    </tr>\n",
       "    <tr>\n",
       "      <th>11</th>\n",
       "      <td>0.84</td>\n",
       "      <td>0.370</td>\n",
       "    </tr>\n",
       "  </tbody>\n",
       "</table>\n",
       "</div>"
      ],
      "text/plain": [
       "      Vx     Ix\n",
       "0   0.32  0.150\n",
       "1   0.36  0.170\n",
       "2   0.40  0.185\n",
       "3   0.44  0.210\n",
       "4   0.48  0.230\n",
       "5   0.56  0.250\n",
       "6   0.60  0.275\n",
       "7   0.64  0.290\n",
       "8   0.68  0.310\n",
       "9   0.76  0.340\n",
       "10  0.80  0.360\n",
       "11  0.84  0.370"
      ]
     },
     "execution_count": 126,
     "metadata": {},
     "output_type": "execute_result"
    }
   ],
   "source": [
    "data = pd.read_csv('dati/dati_bis.csv', sep=';', decimal=',')#, skiprows=1)\n",
    "data"
   ]
  },
  {
   "cell_type": "code",
   "execution_count": 127,
   "id": "2efd3b85-104c-43b3-b00d-e50a9b3f4eb3",
   "metadata": {},
   "outputs": [
    {
     "data": {
      "text/plain": [
       "0     0.32\n",
       "1     0.36\n",
       "2     0.40\n",
       "3     0.44\n",
       "4     0.48\n",
       "5     0.56\n",
       "6     0.60\n",
       "7     0.64\n",
       "8     0.68\n",
       "9     0.76\n",
       "10    0.80\n",
       "11    0.84\n",
       "Name: Vx, dtype: float64"
      ]
     },
     "execution_count": 127,
     "metadata": {},
     "output_type": "execute_result"
    }
   ],
   "source": [
    "data['Vx']"
   ]
  },
  {
   "cell_type": "code",
   "execution_count": 128,
   "id": "217616d9-98de-419f-adf4-5adc53bee207",
   "metadata": {},
   "outputs": [
    {
     "data": {
      "text/plain": [
       "0     0.150\n",
       "1     0.170\n",
       "2     0.185\n",
       "3     0.210\n",
       "4     0.230\n",
       "5     0.250\n",
       "6     0.275\n",
       "7     0.290\n",
       "8     0.310\n",
       "9     0.340\n",
       "10    0.360\n",
       "11    0.370\n",
       "Name: Ix, dtype: float64"
      ]
     },
     "execution_count": 128,
     "metadata": {},
     "output_type": "execute_result"
    }
   ],
   "source": [
    "data['Ix']"
   ]
  },
  {
   "cell_type": "code",
   "execution_count": null,
   "id": "d0ded79f-cffd-481d-9144-11d2de70fec0",
   "metadata": {},
   "outputs": [],
   "source": []
  },
  {
   "cell_type": "markdown",
   "id": "20818ef1-3290-4084-889d-78e53907ec0c",
   "metadata": {},
   "source": [
    "L'argomento `sep`, che di default è impostato su ',' , specifica come sono separati i dati nel file che stiamo leggendo. Nel nostro da ';'"
   ]
  },
  {
   "cell_type": "code",
   "execution_count": 101,
   "id": "5865b759-8c6b-42d8-9a9c-c637704c2741",
   "metadata": {},
   "outputs": [
    {
     "data": {
      "text/plain": [
       "pandas.core.frame.DataFrame"
      ]
     },
     "execution_count": 101,
     "metadata": {},
     "output_type": "execute_result"
    }
   ],
   "source": [
    "type(data)"
   ]
  },
  {
   "cell_type": "markdown",
   "id": "5a114fc4-9e04-4a31-abe1-ad239e5dde77",
   "metadata": {},
   "source": [
    "'data' è un `DataFrame`, sostanzialmente una tabella bidimensionale di dati."
   ]
  },
  {
   "cell_type": "markdown",
   "id": "705a082e-8060-4ee5-bb21-349bfc964dd4",
   "metadata": {},
   "source": [
    "Possiamo accedere direttamente a qualsiasi colonna usando le parentesi quadre ed il nome della colonna"
   ]
  },
  {
   "cell_type": "code",
   "execution_count": 102,
   "id": "3f121ab8-a355-4bc2-afd0-37b55ae1fa83",
   "metadata": {},
   "outputs": [
    {
     "data": {
      "text/plain": [
       "0     0.32\n",
       "1     0.36\n",
       "2     0.40\n",
       "3     0.44\n",
       "4     0.48\n",
       "5     0.56\n",
       "6     0.60\n",
       "7     0.64\n",
       "8     0.68\n",
       "9     0.76\n",
       "10    0.80\n",
       "11    0.84\n",
       "Name: Vx, dtype: float64"
      ]
     },
     "execution_count": 102,
     "metadata": {},
     "output_type": "execute_result"
    }
   ],
   "source": [
    "data['Vx']"
   ]
  },
  {
   "cell_type": "code",
   "execution_count": 129,
   "id": "74ba0390-cd0f-4c69-a9ce-702d2952da72",
   "metadata": {},
   "outputs": [
    {
     "data": {
      "text/plain": [
       "0     0.32\n",
       "1     0.36\n",
       "2     0.40\n",
       "3     0.44\n",
       "4     0.48\n",
       "5     0.56\n",
       "6     0.60\n",
       "7     0.64\n",
       "8     0.68\n",
       "9     0.76\n",
       "10    0.80\n",
       "11    0.84\n",
       "Name: Vx, dtype: float64"
      ]
     },
     "execution_count": 129,
     "metadata": {},
     "output_type": "execute_result"
    }
   ],
   "source": [
    "data.Vx"
   ]
  },
  {
   "cell_type": "code",
   "execution_count": null,
   "id": "8fb7be66-921b-4a50-95d2-f27f08fbaf90",
   "metadata": {},
   "outputs": [],
   "source": []
  },
  {
   "cell_type": "code",
   "execution_count": 130,
   "id": "c1d37faa-5fe8-40ef-bba8-d3b8828ff080",
   "metadata": {},
   "outputs": [
    {
     "data": {
      "image/png": "[encoded data removed]",
      "text/plain": [
       "<Figure size 640x480 with 1 Axes>"
      ]
     },
     "metadata": {},
     "output_type": "display_data"
    }
   ],
   "source": [
    "plt.scatter(data['Ix']*1000, data['Vx'])\n",
    "plt.ylabel('$\\Delta$V [V]', size=14)\n",
    "plt.xlabel('I [$\\mu$A]', size=14)\n",
    "plt.grid()\n",
    "plt.show()"
   ]
  },
  {
   "cell_type": "code",
   "execution_count": null,
   "id": "9c616005-152a-4cf9-abb9-ad50af73bec0",
   "metadata": {},
   "outputs": [],
   "source": []
  },
  {
   "cell_type": "markdown",
   "id": "36b83921-441b-4dcc-aaee-f8e91c92d625",
   "metadata": {},
   "source": [
    "#### aggiungiamo nuove colonne al nostro dataframe"
   ]
  },
  {
   "cell_type": "code",
   "execution_count": 132,
   "id": "2d9bf0ed-2cb1-4ae4-a227-9703bf145b97",
   "metadata": {},
   "outputs": [],
   "source": [
    "data['Vx_err'] = (2/50)/2"
   ]
  },
  {
   "cell_type": "code",
   "execution_count": 133,
   "id": "56f9e90d-4543-4444-8a0b-b1090776a06f",
   "metadata": {},
   "outputs": [],
   "source": [
    "data['Ix_err'] = (0.5/50)/2"
   ]
  },
  {
   "cell_type": "code",
   "execution_count": 134,
   "id": "7ae3aaf7-a113-4840-b1cd-c3f67a145bc6",
   "metadata": {},
   "outputs": [
    {
     "data": {
      "text/html": [
       "<div>\n",
       "<style scoped>\n",
       "    .dataframe tbody tr th:only-of-type {\n",
       "        vertical-align: middle;\n",
       "    }\n",
       "\n",
       "    .dataframe tbody tr th {\n",
       "        vertical-align: top;\n",
       "    }\n",
       "\n",
       "    .dataframe thead th {\n",
       "        text-align: right;\n",
       "    }\n",
       "</style>\n",
       "<table border=\"1\" class=\"dataframe\">\n",
       "  <thead>\n",
       "    <tr style=\"text-align: right;\">\n",
       "      <th></th>\n",
       "      <th>Vx</th>\n",
       "      <th>Ix</th>\n",
       "      <th>Vx_err</th>\n",
       "      <th>Ix_err</th>\n",
       "    </tr>\n",
       "  </thead>\n",
       "  <tbody>\n",
       "    <tr>\n",
       "      <th>0</th>\n",
       "      <td>0.32</td>\n",
       "      <td>0.150</td>\n",
       "      <td>0.02</td>\n",
       "      <td>0.005</td>\n",
       "    </tr>\n",
       "    <tr>\n",
       "      <th>1</th>\n",
       "      <td>0.36</td>\n",
       "      <td>0.170</td>\n",
       "      <td>0.02</td>\n",
       "      <td>0.005</td>\n",
       "    </tr>\n",
       "    <tr>\n",
       "      <th>2</th>\n",
       "      <td>0.40</td>\n",
       "      <td>0.185</td>\n",
       "      <td>0.02</td>\n",
       "      <td>0.005</td>\n",
       "    </tr>\n",
       "    <tr>\n",
       "      <th>3</th>\n",
       "      <td>0.44</td>\n",
       "      <td>0.210</td>\n",
       "      <td>0.02</td>\n",
       "      <td>0.005</td>\n",
       "    </tr>\n",
       "    <tr>\n",
       "      <th>4</th>\n",
       "      <td>0.48</td>\n",
       "      <td>0.230</td>\n",
       "      <td>0.02</td>\n",
       "      <td>0.005</td>\n",
       "    </tr>\n",
       "    <tr>\n",
       "      <th>5</th>\n",
       "      <td>0.56</td>\n",
       "      <td>0.250</td>\n",
       "      <td>0.02</td>\n",
       "      <td>0.005</td>\n",
       "    </tr>\n",
       "    <tr>\n",
       "      <th>6</th>\n",
       "      <td>0.60</td>\n",
       "      <td>0.275</td>\n",
       "      <td>0.02</td>\n",
       "      <td>0.005</td>\n",
       "    </tr>\n",
       "    <tr>\n",
       "      <th>7</th>\n",
       "      <td>0.64</td>\n",
       "      <td>0.290</td>\n",
       "      <td>0.02</td>\n",
       "      <td>0.005</td>\n",
       "    </tr>\n",
       "    <tr>\n",
       "      <th>8</th>\n",
       "      <td>0.68</td>\n",
       "      <td>0.310</td>\n",
       "      <td>0.02</td>\n",
       "      <td>0.005</td>\n",
       "    </tr>\n",
       "    <tr>\n",
       "      <th>9</th>\n",
       "      <td>0.76</td>\n",
       "      <td>0.340</td>\n",
       "      <td>0.02</td>\n",
       "      <td>0.005</td>\n",
       "    </tr>\n",
       "    <tr>\n",
       "      <th>10</th>\n",
       "      <td>0.80</td>\n",
       "      <td>0.360</td>\n",
       "      <td>0.02</td>\n",
       "      <td>0.005</td>\n",
       "    </tr>\n",
       "    <tr>\n",
       "      <th>11</th>\n",
       "      <td>0.84</td>\n",
       "      <td>0.370</td>\n",
       "      <td>0.02</td>\n",
       "      <td>0.005</td>\n",
       "    </tr>\n",
       "  </tbody>\n",
       "</table>\n",
       "</div>"
      ],
      "text/plain": [
       "      Vx     Ix  Vx_err  Ix_err\n",
       "0   0.32  0.150    0.02   0.005\n",
       "1   0.36  0.170    0.02   0.005\n",
       "2   0.40  0.185    0.02   0.005\n",
       "3   0.44  0.210    0.02   0.005\n",
       "4   0.48  0.230    0.02   0.005\n",
       "5   0.56  0.250    0.02   0.005\n",
       "6   0.60  0.275    0.02   0.005\n",
       "7   0.64  0.290    0.02   0.005\n",
       "8   0.68  0.310    0.02   0.005\n",
       "9   0.76  0.340    0.02   0.005\n",
       "10  0.80  0.360    0.02   0.005\n",
       "11  0.84  0.370    0.02   0.005"
      ]
     },
     "execution_count": 134,
     "metadata": {},
     "output_type": "execute_result"
    }
   ],
   "source": [
    "data"
   ]
  },
  {
   "cell_type": "code",
   "execution_count": 108,
   "id": "bef8e605-94f0-4d84-9c6d-a2d1cbccb9cd",
   "metadata": {},
   "outputs": [
    {
     "data": {
      "image/png": "[encoded data removed]",
      "text/plain": [
       "<Figure size 640x480 with 1 Axes>"
      ]
     },
     "metadata": {},
     "output_type": "display_data"
    }
   ],
   "source": [
    "plt.errorbar(data.Ix, data.Vx, xerr=data.Ix_err, yerr=data.Vx_err, fmt='s', markersize=2., capsize=2, label='dati (conf. a monte) - err. max')\n",
    "\n",
    "plt.legend()\n",
    "plt.ylabel('$\\Delta$V [V]', size=14)\n",
    "plt.xlabel('I [$\\mu$A]', size=14)\n",
    "plt.grid()\n",
    "plt.title('Stima di R con il metodo voltamperometrico')\n",
    "#ricordate di chiamare savefig prima di show()\n",
    "plt.show()\n"
   ]
  },
  {
   "cell_type": "code",
   "execution_count": null,
   "id": "5b2c747d-8e1c-4e9b-8ebe-c2cd212e73fc",
   "metadata": {},
   "outputs": [],
   "source": []
  },
  {
   "cell_type": "code",
   "execution_count": null,
   "id": "70a1fb59-924f-4d0a-a8f7-23adffc2cfa5",
   "metadata": {},
   "outputs": [],
   "source": []
  },
  {
   "cell_type": "code",
   "execution_count": 135,
   "id": "693bcf69-af65-4be5-8254-f6cd7615cb30",
   "metadata": {},
   "outputs": [
    {
     "data": {
      "text/plain": [
       "10.0"
      ]
     },
     "execution_count": 135,
     "metadata": {},
     "output_type": "execute_result"
    }
   ],
   "source": [
    "500/50"
   ]
  },
  {
   "cell_type": "code",
   "execution_count": null,
   "id": "a70ce054-c660-41da-a5fd-0d8f95390904",
   "metadata": {},
   "outputs": [],
   "source": []
  },
  {
   "cell_type": "code",
   "execution_count": null,
   "id": "b7913321-9510-471c-8251-2f0e2ece1c96",
   "metadata": {},
   "outputs": [],
   "source": []
  }
 ],
 "metadata": {
  "kernelspec": {
   "display_name": "Python 3 (ipykernel)",
   "language": "python",
   "name": "python3"
  },
  "language_info": {
   "codemirror_mode": {
    "name": "ipython",
    "version": 3
   },
   "file_extension": ".py",
   "mimetype": "text/x-python",
   "name": "python",
   "nbconvert_exporter": "python",
   "pygments_lexer": "ipython3",
   "version": "3.10.12"
  }
 },
 "nbformat": 4,
 "nbformat_minor": 5
}
