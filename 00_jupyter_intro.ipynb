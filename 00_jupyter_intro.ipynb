{
 "cells": [
  {
   "cell_type": "markdown",
   "id": "b51900dd-81f9-4507-923d-d09928acbcfb",
   "metadata": {},
   "source": [
    "# Introduction"
   ]
  },
  {
   "cell_type": "markdown",
   "id": "6c8743fb-9f2a-4d7d-8003-e3ca6d4076ea",
   "metadata": {},
   "source": [
    "In questa lezione faremo uso di Jupyter notebooks \n",
    "\n",
    "<img style=\"width: 250px;\" src=\"https://jupyter.org/assets/logos/rectanglelogo-greytext-orangebody-greymoons.svg\">\n",
    "\n",
    "Jupyter notebook è un ambiente di sviluppo open source che permette di realizzare progetti conteneti codice sorgente python eseguibile, grafici, informazioni testuali, equzioni, etc.\n",
    "\n"
   ]
  },
  {
   "cell_type": "markdown",
   "id": "5c534937-51aa-4022-9e58-f82eeb51acf0",
   "metadata": {},
   "source": [
    "E' applicazione client basata sul web che si avvia con un browser standard ma è gestita localmente.\n",
    "I due componenti centrali di Notebook Jupyter sono un set di diversi kernel (interpreti) e la dashboard. I kernel sono piccoli programmi che elaborano richieste (“request”) specifiche nel linguaggio e reagiscono con relative risposte. La dashboard serve da una parte come interfaccia di gestione per i singoli kernel e dall’altra come centrale per la creazione di nuovi documenti Notebook o per aprire progetti già esistenti. \n"
   ]
  },
  {
   "cell_type": "markdown",
   "id": "a9048602-2a00-4c64-9765-a7d960883b2e",
   "metadata": {},
   "source": [
    "## Come si installa?"
   ]
  },
  {
   "cell_type": "markdown",
   "id": "6a70fc15-f06a-4e09-b064-f8152f93758a",
   "metadata": {},
   "source": [
    "Come si installa? Jupiter Notebook e Jupiter Lab sono inclusi nel software Anaconda. \n",
    "\n",
    "<img style=\"width: 500px;\" src=\"https://binstar-static-prod.s3.amazonaws.com/latest/img/anaconda_org_logo.svg\">\n",
    "\n",
    "* [Anaconda individual ed.](https://www.anaconda.com/products/individual)"
   ]
  },
  {
   "cell_type": "markdown",
   "id": "73f6c9fd-52a6-4e95-8eb9-eb29fecd7771",
   "metadata": {},
   "source": [
    "Per installare Anaconda:\n",
    "1. Scarica la versione per la tua piattaforma (>400MB; il download potrebbe richiedere del tempo...)\n",
    "2. Installa il pacchetto\n",
    "\n",
    "Per iniziare a sviluppare:\n",
    "\n",
    "1. Avvia Anaconda Navigator\n",
    "2. Avvia l'ambiente Jupyter Notebook (richiede un browser web)\n",
    "3. Crea un nuovo notebook Python 3 (dal menu Nuovo)"
   ]
  },
  {
   "cell_type": "markdown",
   "id": "fc201e33-1253-4e51-8f43-d0c21fd5c779",
   "metadata": {},
   "source": [
    "In alternativa, si può installare a parte Jupiter tramite il sito ufficiale del Jupiter Project. "
   ]
  },
  {
   "cell_type": "markdown",
   "id": "e75a0af4-0597-4f10-9fe4-0d994c9d2511",
   "metadata": {},
   "source": [
    "Nota bene: JupyterLab è il successore ufficiale di Notebook Jupyter. \n",
    "In confronto a quest’ultimo JupyterLab offre infatti più opzioni per l’interazione con il codice ed il sistema."
   ]
  },
  {
   "cell_type": "markdown",
   "id": "ffe2320a-580e-423f-91d3-9ebe91fbe915",
   "metadata": {},
   "source": [
    "Anche Google fornisce una piattaforma per sviluppare in python: \n",
    "- [Google colab](https://colab.research.google.com) è una piattaforma online gratuita che offre un servizio di cloud hosting di Jupyter Notebooks\n",
    "\n",
    "\n",
    "\n",
    "<img style=\"width: 400px;\" src=\"data:image/png;base64,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\">\n",
    "\n",
    "\n"
   ]
  },
  {
   "cell_type": "markdown",
   "id": "f673d148-f94b-4787-9835-829b76d391bc",
   "metadata": {},
   "source": [
    "Colab è fondamentalmente un Jupyter Notebook sul cloud.\n"
   ]
  },
  {
   "cell_type": "markdown",
   "id": "fedddf59-9e77-4b99-855f-8a68af379b49",
   "metadata": {},
   "source": [
    "## Un reminder su [python](https://www.python.org/)\n",
    "\n",
    "- Qui una guida su tutto quello che ci può servire: https://www.w3schools.com/python/\n",
    "\n",
    "\n"
   ]
  },
  {
   "cell_type": "markdown",
   "id": "25fc6b14-f670-41d3-b529-17aa2e39d4ec",
   "metadata": {},
   "source": [
    "# Mettiamci all'opera\n",
    "\n",
    "Possiamo trovare una introduzione ai notebook jupyter [qui](https://jupyter-notebook.readthedocs.io/en/stable/).\n",
    "\n"
   ]
  },
  {
   "cell_type": "markdown",
   "id": "a3b2d393-cee9-4250-8289-c7a39d24f071",
   "metadata": {
    "tags": []
   },
   "source": [
    "In Jupyter, il codice è organizzato in celle. Nella cella sottostante possiamo digitare:\n",
    "\n",
    "```python\n",
    "print('Hello world')\n",
    "```\n",
    "\n",
    "e quando premiamo `SHIFT+Return` tutte le linee nella cella sono interpretate"
   ]
  },
  {
   "cell_type": "code",
   "execution_count": 1,
   "id": "fdd201a1-18da-4a46-a383-49b1955d518a",
   "metadata": {},
   "outputs": [
    {
     "name": "stdout",
     "output_type": "stream",
     "text": [
      "hello world\n"
     ]
    }
   ],
   "source": [
    "print('hello world')"
   ]
  },
  {
   "cell_type": "code",
   "execution_count": 2,
   "id": "50a9459a-79e8-4f4f-93af-fc64c410247f",
   "metadata": {},
   "outputs": [
    {
     "name": "stdout",
     "output_type": "stream",
     "text": [
      "5\n"
     ]
    }
   ],
   "source": [
    "a = 5\n",
    "\n",
    "print(a)"
   ]
  },
  {
   "cell_type": "code",
   "execution_count": 3,
   "id": "b98aaec1-5d3b-462b-af74-fc1278b2781e",
   "metadata": {},
   "outputs": [
    {
     "data": {
      "text/plain": [
       "5"
      ]
     },
     "execution_count": 3,
     "metadata": {},
     "output_type": "execute_result"
    }
   ],
   "source": [
    "a"
   ]
  },
  {
   "cell_type": "code",
   "execution_count": 4,
   "id": "f1eab8cb-b9e3-45e3-be9c-329c62e11bd4",
   "metadata": {
    "tags": []
   },
   "outputs": [],
   "source": [
    "# print('Ciao')\n",
    "# a=5\n",
    "# print(a) \n",
    "# a"
   ]
  },
  {
   "cell_type": "markdown",
   "id": "b23ddfdc-5cc9-400b-9f34-88f1c391d38b",
   "metadata": {},
   "source": [
    "\n",
    "## help"
   ]
  },
  {
   "cell_type": "markdown",
   "id": "7dce228b-6079-4c9d-8608-66764d803ab8",
   "metadata": {},
   "source": [
    "Ricorda che la funzione help del linguaggio Python ci permette di avere tutte le informazioni su un'istruzione. E' una sorta di guida online.\n",
    "\n",
    "```python\n",
    "help(something)\n",
    "```\n"
   ]
  },
  {
   "cell_type": "code",
   "execution_count": 5,
   "id": "2fe2257d-9dea-44e1-b750-dde89bb61881",
   "metadata": {},
   "outputs": [
    {
     "name": "stdout",
     "output_type": "stream",
     "text": [
      "Help on built-in function print in module builtins:\n",
      "\n",
      "print(...)\n",
      "    print(value, ..., sep=' ', end='\\n', file=sys.stdout, flush=False)\n",
      "    \n",
      "    Prints the values to a stream, or to sys.stdout by default.\n",
      "    Optional keyword arguments:\n",
      "    file:  a file-like object (stream); defaults to the current sys.stdout.\n",
      "    sep:   string inserted between values, default a space.\n",
      "    end:   string appended after the last value, default a newline.\n",
      "    flush: whether to forcibly flush the stream.\n",
      "\n"
     ]
    }
   ],
   "source": [
    "help(print)"
   ]
  },
  {
   "cell_type": "code",
   "execution_count": null,
   "id": "22543fa9-cb07-482c-94a7-5843b1182eaf",
   "metadata": {},
   "outputs": [],
   "source": []
  },
  {
   "cell_type": "code",
   "execution_count": null,
   "id": "d09cfdab-a49f-4285-9c60-6756876227fe",
   "metadata": {},
   "outputs": [],
   "source": []
  },
  {
   "cell_type": "markdown",
   "id": "330bceb5-0300-408b-b07c-e7d0fbe2dad6",
   "metadata": {},
   "source": [
    "\n",
    "## Documentazione e testo"
   ]
  },
  {
   "cell_type": "markdown",
   "id": "6300b2d0-fa9e-41f3-adac-e93f50c4b33b",
   "metadata": {
    "tags": []
   },
   "source": [
    "Un'altra cosa interessante è che possiamo integrare la documentazione nel nostro notebook. Per farlo, selezioniamo una cella e utilizziamo il menu a discesa per cambiare il tipo di cella in `Markdown`. Ora possiamo aggiungere documentazione, utilizzando la formattazione [markdown](https://github.com/adam-p/markdown-here/wiki/Markdown-Cheatsheet). Ad esempio, usiamo il simbolo di cancelletto per le intestazioni...\n",
    "\n",
    "# Questo è un grande titolo\n",
    "\n",
    "## Questo è un sottotitolo\n",
    "\n",
    "### Questo è un sottosottotitolo\n",
    "\n",
    "Possiamo inserire collegamenti ipertestuali utilizzando parentesi quadre e tonde."
   ]
  },
  {
   "cell_type": "code",
   "execution_count": null,
   "id": "b67c8d84-7154-4a94-afc7-720d0937b5b0",
   "metadata": {},
   "outputs": [],
   "source": []
  },
  {
   "cell_type": "markdown",
   "id": "efcb1f74-4bac-4645-9d00-a4dce182e852",
   "metadata": {},
   "source": [
    "\n",
    "## Salvataggio"
   ]
  },
  {
   "cell_type": "markdown",
   "id": "2140ca1c-a12c-47d7-8ad4-9bf29f48b928",
   "metadata": {},
   "source": [
    "Puoi impostare il nome del notebook cliccando sul nome in alto e definendo il nome desiderato. Il notebook viene salvato in un file chiamato nome.ipynb (ipynb sta per 'interactive python notebook'). Puoi salvare il notebook utilizzando il menu File in alto, selezionando Scarica come, ad esempio, puoi salvarlo come uno script Python normale, oppure come un file PDF, pagina web o scaricare direttamente il notebook Python stesso.\n"
   ]
  },
  {
   "cell_type": "code",
   "execution_count": null,
   "id": "d0c0727b-e499-477d-848e-34981b6656d9",
   "metadata": {},
   "outputs": [],
   "source": []
  },
  {
   "cell_type": "code",
   "execution_count": null,
   "id": "873d0b16-2462-4090-b42f-13be3af7cdd5",
   "metadata": {},
   "outputs": [],
   "source": []
  },
  {
   "cell_type": "code",
   "execution_count": null,
   "id": "6aa0df28-56b6-4927-9a10-f0865ee9eb46",
   "metadata": {},
   "outputs": [],
   "source": []
  }
 ],
 "metadata": {
  "kernelspec": {
   "display_name": "Python 3 (ipykernel)",
   "language": "python",
   "name": "python3"
  },
  "language_info": {
   "codemirror_mode": {
    "name": "ipython",
    "version": 3
   },
   "file_extension": ".py",
   "mimetype": "text/x-python",
   "name": "python",
   "nbconvert_exporter": "python",
   "pygments_lexer": "ipython3",
   "version": "3.10.12"
  }
 },
 "nbformat": 4,
 "nbformat_minor": 5
}
